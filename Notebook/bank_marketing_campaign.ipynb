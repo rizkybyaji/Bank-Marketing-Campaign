{
 "cells": [
  {
   "cell_type": "markdown",
   "metadata": {},
   "source": [
    "### **Bank Marketing Campaign Project**\n",
    "\n",
    "#### Created by M. Rizky Bayu Aji\n",
    "\n",
    "[Sumber Data Bank Marketing Campaign](https://drive.google.com/file/d/1PQTTWgITANg5Av-1Ot28KCIHVyFaCmUK/view?usp=drive_link)"
   ]
  },
  {
   "cell_type": "markdown",
   "metadata": {},
   "source": [
    "#### **1. Business Problem Understanding**"
   ]
  },
  {
   "cell_type": "markdown",
   "metadata": {},
   "source": [
    "**Context**\n",
    "\n",
    "Jenis produk keuangan yang digunakan oleh publik semakin bervariasi. Salah satu produk keuangan yang dikenal luas oleh masyarakat adalah deposito berjangka. Mekanisme deposito berjangka adalah nasabah menyetorkan sejumlah uang di bank atau lembaga keuangan, dan uang tersebut hanya bisa ditarik setelah jangka waktu tertentu. Sebagai kompensasi, nasabah akan diberikan bunga tetap sesuai dengan jumlah uang yang disetorkan.\n",
    "\n",
    "Namun, sebagai entitas bisnis dengan produk keuangan dan pelanggan masing-masing, bank tetap harus bersaing agar tidak kehilangan pelanggan. Salah satu cara untuk memperoleh pelanggan baru adalah dengan melakukan kampanye pemasaran.\n",
    "\n",
    "Target :\n",
    "\n",
    "0 : Tidak melakukan deposito\n",
    "\n",
    "1 : Melakukan deposito\n",
    "\n",
    "**Problem Statement**\n",
    "\n",
    "Bank perlu menarik nasabah baru dan mempertahankan yang sudah ada untuk produk deposito berjangka mereka. Dengan berbagai produk keuangan yang tersedia, persaingan antar bank sangat ketat. Untuk mengatasi tantangan ini, bank bertujuan untuk mengadakan kampanye pemasaran untuk mempromosikan penawaran deposito berjangka. Tujuannya adalah mengidentifikasi profil nasabah dan strategi pemasaran yang menghasilkan pembukaan rekening deposito berjangka yang sukses.\n",
    "\n",
    "**Goals**\n",
    "\n",
    "Bank ingin mempunyai kemampuan untuk mengidentifikasi profil nasabah berdasarkan faktor-faktor apa saja yang mempengaruhi nasabah yang akan membuka rekening deposito dan yang tidak akan, guna membuat strategi pemasaran yang menghasilkan tingkat konversi yang lebih tinggi atau tepat sasaran.\n",
    "\n",
    "**Analytic Approach**\n",
    "\n",
    "Jadi kita akan menganalisis output model untuk mengidentifikasi faktor-faktor utama yang mempengaruhi langganan deposito berjangka.\n",
    "\n",
    "Kemudian kita akan membangun model klasifikasi yang akan membantu untuk memberikan wawasan dan rekomendasi yang dapat ditindaklanjuti untuk mengoptimalkan kampanye pemasaran di masa depan.\n",
    "\n",
    "**Evaluation Metrics**\n",
    "\n",
    "Type 1 error : False Positive\n",
    "\n",
    "Kondisi: Nasabah terdeteksi berkeinginan membuka rekening deposito, padahal sebenarnya tidak tertarik untuk melakukannya.\n",
    "\n",
    "Konsekuensi: Kampanye yang dilakukan cenderung sia-sia.\n",
    "\n",
    "Type 2 error : False Negative\n",
    "\n",
    "Kondisi: Nasabah terdeteksi tidak berkeinginan membuka rekening deposito, padahal sebenarnya tertarik untuk melakukannya.\n",
    "\n",
    "Konsekuensi: Kehilangan calon nasabah potensial.\n",
    "\n",
    "Berdasarkan konsekuensinya, tujuan utamanya adalah menciptakan model yang dapat mengurangi biaya kampanye bagi bank tanpa mengurangi jumlah calon nasabah potensial. Kita ingin mendapatkan sebanyak mungkin prediksi kelas positif yang benar, sambil meminimalkan prediksi yang salah positif (False Positive). Oleh karena itu, metric utama yang akan kita gunakan adalah F1-Score."
   ]
  },
  {
   "cell_type": "markdown",
   "metadata": {},
   "source": [
    "#### **2. Data Understanding**"
   ]
  },
  {
   "cell_type": "markdown",
   "metadata": {},
   "source": [
    "Dataset merupakan data profil nasabah bank, berikut ini adalah keterangan kolom yang ada:"
   ]
  },
  {
   "cell_type": "markdown",
   "metadata": {},
   "source": [
    "**Attribute Information**\n",
    "\n",
    "\n",
    "| **Attribute** | **Data Type** | **Description** |\n",
    "| --- | --- | --- |\n",
    "| age | Integer | Usia nasabah |\n",
    "| job | Object | Pekerjaan nasabah |\n",
    "| balance | Integer | Total saldo tahunan nasabah |\n",
    "| housing | Object | Status kepemilikan cicilan rumah |\n",
    "| loan | Object | Status kepemilikan hutang |\n",
    "| contact | Object | Tipe alat komunikasi |\n",
    "| month | Object | Bulan terakhir nasabah dihubungi |\n",
    "| campaign | Integer | Jumlah kontak yang dihubungi selama masa kampanye |\n",
    "| pdays | Integer | Jumlah hari setelah nasabah dihubungi dalam kampanye sebelumnya |\n",
    "| poutcome | Object | Hasil dari kampanye sebelumnya |\n",
    "| deposit | Object | Nasabah membuka rekening deposito atau tidak |"
   ]
  },
  {
   "cell_type": "markdown",
   "metadata": {},
   "source": [
    "Berdasarkan dataset ini, syarat utama membuka rekening deposito adalah memiliki kartu identitas dimana syarat memiliki kartu identitas adalah berusia 17 tahun. Namun, hal ini kembali lagi kepada ketentuan pada pihak bank karena ada beberapa bank yang diharuskan memiliki rekening tabungan atau giro yang dapat diperiksa dalam kolom `balance`, dan yang tidak mengharuskan. Dalam hal ini, kita mengambil ketentuan bank yang tidak mengharuskan nasabah mempunyai rekening tabungan atau giro. [Sumber](https://www.bca.co.id/id/Individu/produk/simpanan/Deposito-Berjangka#)"
   ]
  },
  {
   "cell_type": "code",
   "execution_count": 684,
   "metadata": {},
   "outputs": [],
   "source": [
    "# Import library\n",
    "import pandas as pd\n",
    "import numpy as np\n",
    "import matplotlib.pyplot as plt\n",
    "import seaborn as sns\n",
    "import missingno as msno\n",
    "from scipy.stats import zscore\n",
    "from sklearn.ensemble import IsolationForest, RandomForestClassifier, GradientBoostingClassifier, StackingClassifier\n",
    "from sklearn.preprocessing import StandardScaler\n",
    "from sklearn.model_selection import train_test_split, RandomizedSearchCV\n",
    "from sklearn.linear_model import LogisticRegression\n",
    "from sklearn.tree import DecisionTreeClassifier\n",
    "from sklearn.svm import SVC\n",
    "from sklearn.neighbors import KNeighborsClassifier\n",
    "from sklearn.metrics import accuracy_score, precision_score, recall_score, f1_score, confusion_matrix, classification_report\n",
    "from skopt import BayesSearchCV\n",
    "\n",
    "import warnings\n",
    "warnings.filterwarnings('ignore')"
   ]
  },
  {
   "cell_type": "code",
   "execution_count": 685,
   "metadata": {},
   "outputs": [
    {
     "name": "stdout",
     "output_type": "stream",
     "text": [
      "Jumlah baris dan kolom pada dataset ini adalah (7813, 11)\n"
     ]
    },
    {
     "data": {
      "text/html": [
       "<div>\n",
       "<style scoped>\n",
       "    .dataframe tbody tr th:only-of-type {\n",
       "        vertical-align: middle;\n",
       "    }\n",
       "\n",
       "    .dataframe tbody tr th {\n",
       "        vertical-align: top;\n",
       "    }\n",
       "\n",
       "    .dataframe thead th {\n",
       "        text-align: right;\n",
       "    }\n",
       "</style>\n",
       "<table border=\"1\" class=\"dataframe\">\n",
       "  <thead>\n",
       "    <tr style=\"text-align: right;\">\n",
       "      <th></th>\n",
       "      <th>age</th>\n",
       "      <th>job</th>\n",
       "      <th>balance</th>\n",
       "      <th>housing</th>\n",
       "      <th>loan</th>\n",
       "      <th>contact</th>\n",
       "      <th>month</th>\n",
       "      <th>campaign</th>\n",
       "      <th>pdays</th>\n",
       "      <th>poutcome</th>\n",
       "      <th>deposit</th>\n",
       "    </tr>\n",
       "  </thead>\n",
       "  <tbody>\n",
       "    <tr>\n",
       "      <th>0</th>\n",
       "      <td>55</td>\n",
       "      <td>admin.</td>\n",
       "      <td>1662</td>\n",
       "      <td>no</td>\n",
       "      <td>no</td>\n",
       "      <td>cellular</td>\n",
       "      <td>jun</td>\n",
       "      <td>2</td>\n",
       "      <td>-1</td>\n",
       "      <td>unknown</td>\n",
       "      <td>yes</td>\n",
       "    </tr>\n",
       "    <tr>\n",
       "      <th>1</th>\n",
       "      <td>39</td>\n",
       "      <td>self-employed</td>\n",
       "      <td>-3058</td>\n",
       "      <td>yes</td>\n",
       "      <td>yes</td>\n",
       "      <td>cellular</td>\n",
       "      <td>apr</td>\n",
       "      <td>3</td>\n",
       "      <td>-1</td>\n",
       "      <td>unknown</td>\n",
       "      <td>yes</td>\n",
       "    </tr>\n",
       "    <tr>\n",
       "      <th>2</th>\n",
       "      <td>51</td>\n",
       "      <td>admin.</td>\n",
       "      <td>3025</td>\n",
       "      <td>no</td>\n",
       "      <td>no</td>\n",
       "      <td>cellular</td>\n",
       "      <td>may</td>\n",
       "      <td>1</td>\n",
       "      <td>352</td>\n",
       "      <td>other</td>\n",
       "      <td>yes</td>\n",
       "    </tr>\n",
       "    <tr>\n",
       "      <th>3</th>\n",
       "      <td>38</td>\n",
       "      <td>services</td>\n",
       "      <td>-87</td>\n",
       "      <td>yes</td>\n",
       "      <td>no</td>\n",
       "      <td>cellular</td>\n",
       "      <td>may</td>\n",
       "      <td>1</td>\n",
       "      <td>-1</td>\n",
       "      <td>unknown</td>\n",
       "      <td>no</td>\n",
       "    </tr>\n",
       "    <tr>\n",
       "      <th>4</th>\n",
       "      <td>36</td>\n",
       "      <td>housemaid</td>\n",
       "      <td>205</td>\n",
       "      <td>yes</td>\n",
       "      <td>no</td>\n",
       "      <td>telephone</td>\n",
       "      <td>nov</td>\n",
       "      <td>4</td>\n",
       "      <td>-1</td>\n",
       "      <td>unknown</td>\n",
       "      <td>no</td>\n",
       "    </tr>\n",
       "  </tbody>\n",
       "</table>\n",
       "</div>"
      ],
      "text/plain": [
       "   age            job  balance housing loan    contact month  campaign  pdays  \\\n",
       "0   55         admin.     1662      no   no   cellular   jun         2     -1   \n",
       "1   39  self-employed    -3058     yes  yes   cellular   apr         3     -1   \n",
       "2   51         admin.     3025      no   no   cellular   may         1    352   \n",
       "3   38       services      -87     yes   no   cellular   may         1     -1   \n",
       "4   36      housemaid      205     yes   no  telephone   nov         4     -1   \n",
       "\n",
       "  poutcome deposit  \n",
       "0  unknown     yes  \n",
       "1  unknown     yes  \n",
       "2    other     yes  \n",
       "3  unknown      no  \n",
       "4  unknown      no  "
      ]
     },
     "metadata": {},
     "output_type": "display_data"
    },
    {
     "data": {
      "text/html": [
       "<div>\n",
       "<style scoped>\n",
       "    .dataframe tbody tr th:only-of-type {\n",
       "        vertical-align: middle;\n",
       "    }\n",
       "\n",
       "    .dataframe tbody tr th {\n",
       "        vertical-align: top;\n",
       "    }\n",
       "\n",
       "    .dataframe thead th {\n",
       "        text-align: right;\n",
       "    }\n",
       "</style>\n",
       "<table border=\"1\" class=\"dataframe\">\n",
       "  <thead>\n",
       "    <tr style=\"text-align: right;\">\n",
       "      <th></th>\n",
       "      <th>age</th>\n",
       "      <th>job</th>\n",
       "      <th>balance</th>\n",
       "      <th>housing</th>\n",
       "      <th>loan</th>\n",
       "      <th>contact</th>\n",
       "      <th>month</th>\n",
       "      <th>campaign</th>\n",
       "      <th>pdays</th>\n",
       "      <th>poutcome</th>\n",
       "      <th>deposit</th>\n",
       "    </tr>\n",
       "  </thead>\n",
       "  <tbody>\n",
       "    <tr>\n",
       "      <th>7808</th>\n",
       "      <td>62</td>\n",
       "      <td>housemaid</td>\n",
       "      <td>2</td>\n",
       "      <td>no</td>\n",
       "      <td>no</td>\n",
       "      <td>cellular</td>\n",
       "      <td>nov</td>\n",
       "      <td>1</td>\n",
       "      <td>-1</td>\n",
       "      <td>unknown</td>\n",
       "      <td>yes</td>\n",
       "    </tr>\n",
       "    <tr>\n",
       "      <th>7809</th>\n",
       "      <td>48</td>\n",
       "      <td>housemaid</td>\n",
       "      <td>5473</td>\n",
       "      <td>no</td>\n",
       "      <td>no</td>\n",
       "      <td>cellular</td>\n",
       "      <td>feb</td>\n",
       "      <td>2</td>\n",
       "      <td>184</td>\n",
       "      <td>success</td>\n",
       "      <td>yes</td>\n",
       "    </tr>\n",
       "    <tr>\n",
       "      <th>7810</th>\n",
       "      <td>36</td>\n",
       "      <td>unknown</td>\n",
       "      <td>179</td>\n",
       "      <td>no</td>\n",
       "      <td>no</td>\n",
       "      <td>cellular</td>\n",
       "      <td>aug</td>\n",
       "      <td>8</td>\n",
       "      <td>-1</td>\n",
       "      <td>unknown</td>\n",
       "      <td>no</td>\n",
       "    </tr>\n",
       "    <tr>\n",
       "      <th>7811</th>\n",
       "      <td>31</td>\n",
       "      <td>admin.</td>\n",
       "      <td>54</td>\n",
       "      <td>yes</td>\n",
       "      <td>no</td>\n",
       "      <td>cellular</td>\n",
       "      <td>nov</td>\n",
       "      <td>1</td>\n",
       "      <td>-1</td>\n",
       "      <td>unknown</td>\n",
       "      <td>no</td>\n",
       "    </tr>\n",
       "    <tr>\n",
       "      <th>7812</th>\n",
       "      <td>60</td>\n",
       "      <td>retired</td>\n",
       "      <td>1588</td>\n",
       "      <td>no</td>\n",
       "      <td>no</td>\n",
       "      <td>cellular</td>\n",
       "      <td>oct</td>\n",
       "      <td>1</td>\n",
       "      <td>-1</td>\n",
       "      <td>unknown</td>\n",
       "      <td>yes</td>\n",
       "    </tr>\n",
       "  </tbody>\n",
       "</table>\n",
       "</div>"
      ],
      "text/plain": [
       "      age        job  balance housing loan   contact month  campaign  pdays  \\\n",
       "7808   62  housemaid        2      no   no  cellular   nov         1     -1   \n",
       "7809   48  housemaid     5473      no   no  cellular   feb         2    184   \n",
       "7810   36    unknown      179      no   no  cellular   aug         8     -1   \n",
       "7811   31     admin.       54     yes   no  cellular   nov         1     -1   \n",
       "7812   60    retired     1588      no   no  cellular   oct         1     -1   \n",
       "\n",
       "     poutcome deposit  \n",
       "7808  unknown     yes  \n",
       "7809  success     yes  \n",
       "7810  unknown      no  \n",
       "7811  unknown      no  \n",
       "7812  unknown     yes  "
      ]
     },
     "metadata": {},
     "output_type": "display_data"
    }
   ],
   "source": [
    "# Load Dataset\n",
    "\n",
    "df = pd.read_csv('data_bank_marketing_campaign.csv')\n",
    "print(f'Jumlah baris dan kolom pada dataset ini adalah {df.shape}')\n",
    "display(df.head(), df.tail())"
   ]
  },
  {
   "cell_type": "code",
   "execution_count": 686,
   "metadata": {},
   "outputs": [
    {
     "name": "stdout",
     "output_type": "stream",
     "text": [
      "<class 'pandas.core.frame.DataFrame'>\n",
      "RangeIndex: 7813 entries, 0 to 7812\n",
      "Data columns (total 11 columns):\n",
      " #   Column    Non-Null Count  Dtype \n",
      "---  ------    --------------  ----- \n",
      " 0   age       7813 non-null   int64 \n",
      " 1   job       7813 non-null   object\n",
      " 2   balance   7813 non-null   int64 \n",
      " 3   housing   7813 non-null   object\n",
      " 4   loan      7813 non-null   object\n",
      " 5   contact   7813 non-null   object\n",
      " 6   month     7813 non-null   object\n",
      " 7   campaign  7813 non-null   int64 \n",
      " 8   pdays     7813 non-null   int64 \n",
      " 9   poutcome  7813 non-null   object\n",
      " 10  deposit   7813 non-null   object\n",
      "dtypes: int64(4), object(7)\n",
      "memory usage: 671.6+ KB\n"
     ]
    }
   ],
   "source": [
    "# Count data and type data\n",
    "df.info()"
   ]
  },
  {
   "cell_type": "code",
   "execution_count": 687,
   "metadata": {},
   "outputs": [
    {
     "name": "stdout",
     "output_type": "stream",
     "text": [
      "Semua nasabah berusia di atas atau sama dengan 17 tahun.\n"
     ]
    }
   ],
   "source": [
    "# Check minimal age for deposit\n",
    "\n",
    "if df['age'].min() < 17:\n",
    "    print(\"Ada nasabah yang berusia di bawah 17 tahun.\")\n",
    "else:\n",
    "    print(\"Semua nasabah berusia di atas atau sama dengan 17 tahun.\")"
   ]
  },
  {
   "cell_type": "markdown",
   "metadata": {},
   "source": [
    "Kita akan memeriksa apakah ada data yang hilang dalam fitur/kolom, dari data yang kita miliki tidak ada kolom yang secara eksplisit dinyatakan tidak relevan dalam konteks masalah yang sedang kita pecahkan."
   ]
  },
  {
   "cell_type": "code",
   "execution_count": 688,
   "metadata": {},
   "outputs": [
    {
     "data": {
      "text/html": [
       "<div>\n",
       "<style scoped>\n",
       "    .dataframe tbody tr th:only-of-type {\n",
       "        vertical-align: middle;\n",
       "    }\n",
       "\n",
       "    .dataframe tbody tr th {\n",
       "        vertical-align: top;\n",
       "    }\n",
       "\n",
       "    .dataframe thead th {\n",
       "        text-align: right;\n",
       "    }\n",
       "</style>\n",
       "<table border=\"1\" class=\"dataframe\">\n",
       "  <thead>\n",
       "    <tr style=\"text-align: right;\">\n",
       "      <th></th>\n",
       "      <th>column</th>\n",
       "      <th>type</th>\n",
       "      <th>null</th>\n",
       "      <th>unique</th>\n",
       "      <th>min</th>\n",
       "      <th>max</th>\n",
       "      <th>unique_sample</th>\n",
       "    </tr>\n",
       "  </thead>\n",
       "  <tbody>\n",
       "    <tr>\n",
       "      <th>age</th>\n",
       "      <td>age</td>\n",
       "      <td>int64</td>\n",
       "      <td>0</td>\n",
       "      <td>75</td>\n",
       "      <td>18</td>\n",
       "      <td>95</td>\n",
       "      <td>[55, 39, 51, 38, 36, 41, 37, 35, 57, 23, 33, 3...</td>\n",
       "    </tr>\n",
       "    <tr>\n",
       "      <th>job</th>\n",
       "      <td>job</td>\n",
       "      <td>object</td>\n",
       "      <td>0</td>\n",
       "      <td>12</td>\n",
       "      <td>admin.</td>\n",
       "      <td>unknown</td>\n",
       "      <td>[admin., self-employed, services, housemaid, t...</td>\n",
       "    </tr>\n",
       "    <tr>\n",
       "      <th>balance</th>\n",
       "      <td>balance</td>\n",
       "      <td>int64</td>\n",
       "      <td>0</td>\n",
       "      <td>3153</td>\n",
       "      <td>-6847</td>\n",
       "      <td>66653</td>\n",
       "      <td>[1662, -3058, 3025, -87, 205, -76, 4803, 911, ...</td>\n",
       "    </tr>\n",
       "    <tr>\n",
       "      <th>housing</th>\n",
       "      <td>housing</td>\n",
       "      <td>object</td>\n",
       "      <td>0</td>\n",
       "      <td>2</td>\n",
       "      <td>no</td>\n",
       "      <td>yes</td>\n",
       "      <td>[no, yes]</td>\n",
       "    </tr>\n",
       "    <tr>\n",
       "      <th>loan</th>\n",
       "      <td>loan</td>\n",
       "      <td>object</td>\n",
       "      <td>0</td>\n",
       "      <td>2</td>\n",
       "      <td>no</td>\n",
       "      <td>yes</td>\n",
       "      <td>[no, yes]</td>\n",
       "    </tr>\n",
       "    <tr>\n",
       "      <th>contact</th>\n",
       "      <td>contact</td>\n",
       "      <td>object</td>\n",
       "      <td>0</td>\n",
       "      <td>3</td>\n",
       "      <td>cellular</td>\n",
       "      <td>unknown</td>\n",
       "      <td>[cellular, telephone, unknown]</td>\n",
       "    </tr>\n",
       "    <tr>\n",
       "      <th>month</th>\n",
       "      <td>month</td>\n",
       "      <td>object</td>\n",
       "      <td>0</td>\n",
       "      <td>12</td>\n",
       "      <td>apr</td>\n",
       "      <td>sep</td>\n",
       "      <td>[jun, apr, may, nov, jan, sep, feb, mar, aug, ...</td>\n",
       "    </tr>\n",
       "    <tr>\n",
       "      <th>campaign</th>\n",
       "      <td>campaign</td>\n",
       "      <td>int64</td>\n",
       "      <td>0</td>\n",
       "      <td>32</td>\n",
       "      <td>1</td>\n",
       "      <td>63</td>\n",
       "      <td>[2, 3, 1, 4, 5, 6, 7, 30, 8, 9, 11, 14, 10, 28...</td>\n",
       "    </tr>\n",
       "    <tr>\n",
       "      <th>pdays</th>\n",
       "      <td>pdays</td>\n",
       "      <td>int64</td>\n",
       "      <td>0</td>\n",
       "      <td>422</td>\n",
       "      <td>-1</td>\n",
       "      <td>854</td>\n",
       "      <td>[-1, 352, 21, 91, 186, 263, 96, 355, 294, 412,...</td>\n",
       "    </tr>\n",
       "    <tr>\n",
       "      <th>poutcome</th>\n",
       "      <td>poutcome</td>\n",
       "      <td>object</td>\n",
       "      <td>0</td>\n",
       "      <td>4</td>\n",
       "      <td>failure</td>\n",
       "      <td>unknown</td>\n",
       "      <td>[unknown, other, failure, success]</td>\n",
       "    </tr>\n",
       "    <tr>\n",
       "      <th>deposit</th>\n",
       "      <td>deposit</td>\n",
       "      <td>object</td>\n",
       "      <td>0</td>\n",
       "      <td>2</td>\n",
       "      <td>no</td>\n",
       "      <td>yes</td>\n",
       "      <td>[yes, no]</td>\n",
       "    </tr>\n",
       "  </tbody>\n",
       "</table>\n",
       "</div>"
      ],
      "text/plain": [
       "            column    type  null  unique       min      max  \\\n",
       "age            age   int64     0      75        18       95   \n",
       "job            job  object     0      12    admin.  unknown   \n",
       "balance    balance   int64     0    3153     -6847    66653   \n",
       "housing    housing  object     0       2        no      yes   \n",
       "loan          loan  object     0       2        no      yes   \n",
       "contact    contact  object     0       3  cellular  unknown   \n",
       "month        month  object     0      12       apr      sep   \n",
       "campaign  campaign   int64     0      32         1       63   \n",
       "pdays        pdays   int64     0     422        -1      854   \n",
       "poutcome  poutcome  object     0       4   failure  unknown   \n",
       "deposit    deposit  object     0       2        no      yes   \n",
       "\n",
       "                                              unique_sample  \n",
       "age       [55, 39, 51, 38, 36, 41, 37, 35, 57, 23, 33, 3...  \n",
       "job       [admin., self-employed, services, housemaid, t...  \n",
       "balance   [1662, -3058, 3025, -87, 205, -76, 4803, 911, ...  \n",
       "housing                                           [no, yes]  \n",
       "loan                                              [no, yes]  \n",
       "contact                      [cellular, telephone, unknown]  \n",
       "month     [jun, apr, may, nov, jan, sep, feb, mar, aug, ...  \n",
       "campaign  [2, 3, 1, 4, 5, 6, 7, 30, 8, 9, 11, 14, 10, 28...  \n",
       "pdays     [-1, 352, 21, 91, 186, 263, 96, 355, 294, 412,...  \n",
       "poutcome                 [unknown, other, failure, success]  \n",
       "deposit                                           [yes, no]  "
      ]
     },
     "execution_count": 688,
     "metadata": {},
     "output_type": "execute_result"
    }
   ],
   "source": [
    "pd.DataFrame({\n",
    "    'column': df.columns.values,\n",
    "    'type': df.dtypes.values,\n",
    "    'null' : df.isna().sum(),\n",
    "    'unique': df.nunique().values,\n",
    "    'min': df.min().values,\n",
    "    'max': df.max().values,\n",
    "    'unique_sample': [df[col].unique() for col in df.columns]\n",
    "})"
   ]
  },
  {
   "cell_type": "markdown",
   "metadata": {},
   "source": [
    "Dari hasil diatas kita akan menangani data `unknown` pada kolom `job`, `contact`, `poutcome`. Dan kolom `month` dan `deposit` akan di encoding agar analisis lebih mudah."
   ]
  },
  {
   "cell_type": "markdown",
   "metadata": {},
   "source": [
    "### **3. Data Cleaning**\n",
    "\n",
    "**Missing Value**"
   ]
  },
  {
   "cell_type": "code",
   "execution_count": 689,
   "metadata": {},
   "outputs": [
    {
     "data": {
      "text/plain": [
       "(age         0\n",
       " job         0\n",
       " balance     0\n",
       " housing     0\n",
       " loan        0\n",
       " contact     0\n",
       " month       0\n",
       " campaign    0\n",
       " pdays       0\n",
       " poutcome    0\n",
       " deposit     0\n",
       " dtype: int64,\n",
       " <Axes: >)"
      ]
     },
     "execution_count": 689,
     "metadata": {},
     "output_type": "execute_result"
    },
    {
     "data": {
      "image/png": "[encoded data removed]",
      "text/plain": [
       "<Figure size 1500x400 with 2 Axes>"
      ]
     },
     "metadata": {},
     "output_type": "display_data"
    }
   ],
   "source": [
    "# Check missing value\n",
    "df.isna().sum(), msno.matrix(df, figsize=(15, 4))"
   ]
  },
  {
   "cell_type": "markdown",
   "metadata": {},
   "source": [
    "Tidak terdapat missing value."
   ]
  },
  {
   "cell_type": "markdown",
   "metadata": {},
   "source": [
    "**Data Duplicate**"
   ]
  },
  {
   "cell_type": "code",
   "execution_count": 690,
   "metadata": {},
   "outputs": [
    {
     "name": "stdout",
     "output_type": "stream",
     "text": [
      "Jumlah Data Duplikat: 8\n",
      "Persentase Data Duplikat: 0.1%\n",
      "Jumlah baris dan kolom: (7813, 11)\n"
     ]
    }
   ],
   "source": [
    "# Check duplicated data\n",
    "\n",
    "Duplicated = df.duplicated().sum()\n",
    "DuplicatedPerc = round((df.duplicated().sum()/df.shape[0])*100,2)\n",
    "print(f'Jumlah Data Duplikat: {Duplicated}\\nPersentase Data Duplikat: {DuplicatedPerc}%')\n",
    "print(f'Jumlah baris dan kolom: {df.shape}')"
   ]
  },
  {
   "cell_type": "markdown",
   "metadata": {},
   "source": [
    "Terdapat data duplikat sebesar 0.1%, maka kita dapat menghilangkan salah satunya."
   ]
  },
  {
   "cell_type": "code",
   "execution_count": 691,
   "metadata": {},
   "outputs": [
    {
     "name": "stdout",
     "output_type": "stream",
     "text": [
      "Jumlah Data Duplikat: 0\n",
      "Persentase Data Duplikat: 0.0%\n",
      "Jumlah baris dan kolom: (7805, 11)\n"
     ]
    }
   ],
   "source": [
    "# Drop duplikat\n",
    "df.drop_duplicates(keep='last', inplace=True, ignore_index=True)\n",
    "\n",
    "# Recheck duplicated data\n",
    "Duplicated = df.duplicated().sum()\n",
    "DuplicatedPerc = round((df.duplicated().sum() / df.shape[0]) * 100, 2)\n",
    "print(f'Jumlah Data Duplikat: {Duplicated}\\nPersentase Data Duplikat: {DuplicatedPerc}%')\n",
    "\n",
    "# Count row and column\n",
    "print(f'Jumlah baris dan kolom: {df.shape}')"
   ]
  },
  {
   "cell_type": "markdown",
   "metadata": {},
   "source": [
    "**Outliers**"
   ]
  },
  {
   "cell_type": "code",
   "execution_count": 692,
   "metadata": {},
   "outputs": [
    {
     "data": {
      "text/plain": [
       "age          69\n",
       "balance     136\n",
       "campaign    149\n",
       "pdays       122\n",
       "dtype: int64"
      ]
     },
     "execution_count": 692,
     "metadata": {},
     "output_type": "execute_result"
    }
   ],
   "source": [
    "# Calculate Z-scores for numerical columns\n",
    "numerical_cols = ['age', 'balance', 'campaign', 'pdays']\n",
    "z_scores = df[numerical_cols].apply(zscore)\n",
    "\n",
    "# Identify outliers using Z-score\n",
    "outliers_zscore = (z_scores.abs() > 3).sum()\n",
    "\n",
    "outliers_zscore"
   ]
  },
  {
   "cell_type": "code",
   "execution_count": 693,
   "metadata": {},
   "outputs": [
    {
     "data": {
      "text/plain": [
       "((7805, 11), (7414, 11))"
      ]
     },
     "execution_count": 693,
     "metadata": {},
     "output_type": "execute_result"
    }
   ],
   "source": [
    "# Define the Isolation Forest model\n",
    "iso_forest = IsolationForest(contamination=0.05, random_state=42)\n",
    "\n",
    "# Fit the model to the numerical columns\n",
    "iso_forest.fit(df[numerical_cols])\n",
    "\n",
    "# Predict the outliers\n",
    "outliers_iforest = iso_forest.predict(df[numerical_cols])\n",
    "\n",
    "# Create a new DataFrame without the outliers\n",
    "df_cleaned = df[outliers_iforest == 1]\n",
    "\n",
    "# Display the shape of the original and cleaned DataFrame\n",
    "original_shape = df.shape\n",
    "cleaned_shape = df_cleaned.shape\n",
    "\n",
    "original_shape, cleaned_shape"
   ]
  },
  {
   "cell_type": "markdown",
   "metadata": {},
   "source": [
    "Setelah menggunakan Isolation Forest, kita telah menghapus outliers dari dataset:\n",
    "- Original dataset shape: 7805 sampel, 11 fitur (Sudah dikurang 8 karena data duplicate sudah di drop, Originalnya adalah 7813)\n",
    "- Cleaned dataset shape: 7414 sampel, 11 fitur\n",
    "\n",
    "Dengan menggunakan Isolation Forest, kita dapat mendeteksi dan menghapus outliers secara efektif, memastikan data yang lebih bersih dan lebih cocok untuk analisis dan pelatihan model pembelajaran mesin. Hal ini membantu meningkatkan kinerja model dan memberikan hasil yang lebih andal."
   ]
  },
  {
   "cell_type": "markdown",
   "metadata": {},
   "source": [
    "#### **4. Exploratory Data Analysis**"
   ]
  },
  {
   "cell_type": "code",
   "execution_count": 694,
   "metadata": {},
   "outputs": [
    {
     "data": {
      "image/png": "[encoded data removed]",
      "text/plain": [
       "<Figure size 1200x600 with 2 Axes>"
      ]
     },
     "metadata": {},
     "output_type": "display_data"
    }
   ],
   "source": [
    "# Data for the target column\n",
    "target_counts = df_cleaned['deposit'].value_counts()\n",
    "target_labels = ['No', 'Yes']  # Directly using the labels instead of label encoders\n",
    "\n",
    "# Plotting pie chart\n",
    "plt.figure(figsize=(12, 6))\n",
    "\n",
    "# Pie chart\n",
    "plt.subplot(1, 2, 1)\n",
    "plt.pie(target_counts, labels=target_labels, autopct='%1.1f%%', startangle=140, colors=['indianred', 'steelblue'])\n",
    "plt.title('Distribution of Deposits')\n",
    "\n",
    "# Countplot with annotations\n",
    "plt.subplot(1, 2, 2)\n",
    "sns.countplot(x='deposit', data=df_cleaned, palette=['steelblue', 'indianred'])\n",
    "plt.title('Count Plot of Deposits')\n",
    "plt.xlabel('Deposit')\n",
    "plt.ylabel('Count')\n",
    "\n",
    "# Annotate the countplot\n",
    "for p in plt.gca().patches:\n",
    "    height = p.get_height()\n",
    "    plt.gca().annotate(f'{height}\\n({height/len(df)*100:.1f}%)', (p.get_x() + p.get_width() / 2., height),\n",
    "                       ha='center', va='center', xytext=(0, 10), textcoords='offset points')\n",
    "\n",
    "plt.tight_layout()\n",
    "plt.show()"
   ]
  },
  {
   "cell_type": "markdown",
   "metadata": {},
   "source": [
    "- Perbandingan data menunjukkan bahwa `52,9%` atau sebanyak `3922` nasabah tidak membuka deposito, sedangkan 47,1% atau sebanyak 3492 nasabah membuka deposito.\n",
    "- Perbandingan ini termasuk dalam kategori target yang seimbang (balance), karena persentase nasabah yang membuka deposito dan yang tidak hampir sama."
   ]
  },
  {
   "cell_type": "code",
   "execution_count": 695,
   "metadata": {},
   "outputs": [
    {
     "data": {
      "image/png": "[encoded data removed]",
      "text/plain": [
       "<Figure size 1500x1200 with 4 Axes>"
      ]
     },
     "metadata": {},
     "output_type": "display_data"
    }
   ],
   "source": [
    "# Create subplots for visualizing the relationships between age, balance, campaign, pdays and deposit\n",
    "fig, axs = plt.subplots(2, 2, figsize=(15, 12))\n",
    "\n",
    "# Age vs Deposit\n",
    "sns.boxplot(x='deposit', y='age', data=df_cleaned, palette=['steelblue', 'indianred'], ax=axs[0, 0])\n",
    "axs[0, 0].set_title('Age vs Deposit')\n",
    "axs[0, 0].set_xlabel('Deposit')\n",
    "axs[0, 0].set_ylabel('Age')\n",
    "\n",
    "# Balance vs Deposit\n",
    "sns.boxplot(x='deposit', y='balance', data=df_cleaned, palette=['steelblue', 'indianred'], ax=axs[0, 1])\n",
    "axs[0, 1].set_title('Balance vs Deposit')\n",
    "axs[0, 1].set_xlabel('Deposit')\n",
    "axs[0, 1].set_ylabel('Balance')\n",
    "\n",
    "# Campaign vs Deposit\n",
    "sns.boxplot(x='deposit', y='campaign', data=df_cleaned, palette=['steelblue', 'indianred'], ax=axs[1, 0])\n",
    "axs[1, 0].set_title('Campaign vs Deposit')\n",
    "axs[1, 0].set_xlabel('Deposit')\n",
    "axs[1, 0].set_ylabel('Campaign')\n",
    "\n",
    "# Pdays vs Deposit\n",
    "sns.boxplot(x='deposit', y='pdays', data=df_cleaned, palette=['steelblue', 'indianred'], ax=axs[1, 1])\n",
    "axs[1, 1].set_title('Pdays vs Deposit')\n",
    "axs[1, 1].set_xlabel('Deposit')\n",
    "axs[1, 1].set_ylabel('Pdays')\n",
    "\n",
    "plt.tight_layout()\n",
    "plt.show()"
   ]
  },
  {
   "cell_type": "markdown",
   "metadata": {},
   "source": [
    "Berikut adalah beberapa insight yang dapat diperoleh dari hasil boxplot tersebut:\n",
    "\n",
    "1. Umur vs. Deposit:\n",
    "- Distribusi umur nasabah yang melakukan deposito berjangka lebih merata dibandingkan dengan yang tidak melakukan deposito.\n",
    "- Tampaknya ada sedikit perbedaan umur rata-rata antara nasabah yang melakukan deposito dan yang tidak, dengan nasabah yang melakukan deposito cenderung lebih tua.\n",
    "\n",
    "2. Saldo vs. Deposit:\n",
    "- Nasabah yang memiliki saldo lebih tinggi cenderung lebih mungkin untuk melakukan deposito berjangka.\n",
    "- Terdapat beberapa outlier pada nasabah yang tidak melakukan deposito, yang menunjukkan ada nasabah dengan saldo tinggi tetapi tidak tertarik pada deposito.\n",
    "\n",
    "3. Kampanye vs. Deposit:\n",
    "- Jumlah kontak yang dilakukan dalam kampanye untuk nasabah yang melakukan deposito cenderung lebih rendah.\n",
    "- Nasabah yang tidak melakukan deposito cenderung menerima lebih banyak kontak selama kampanye, yang mungkin menunjukkan bahwa terlalu banyak kontak dapat berpotensi mengurangi minat nasabah.\n",
    "\n",
    "4. Pdays vs. Deposit:\n",
    "- Nilai pdays yang rendah (sering dihubungi dalam waktu dekat) lebih umum pada nasabah yang tidak melakukan deposito.\n",
    "- Nasabah yang melakukan deposito cenderung memiliki nilai pdays yang lebih tinggi atau tidak dihubungi dalam kampanye sebelumnya, yang menunjukkan bahwa nasabah yang jarang dihubungi atau dihubungi setelah waktu yang lama lebih mungkin untuk melakukan deposito."
   ]
  },
  {
   "cell_type": "code",
   "execution_count": 696,
   "metadata": {},
   "outputs": [
    {
     "data": {
      "image/png": "[encoded data removed]",
      "text/plain": [
       "<Figure size 1800x600 with 2 Axes>"
      ]
     },
     "metadata": {},
     "output_type": "display_data"
    }
   ],
   "source": [
    "# Create subplots for visualizing the frequencies of housing and loan with deposit status side by side\n",
    "fig, axs = plt.subplots(1, 2, figsize=(18, 6))\n",
    "\n",
    "# Housing vs Deposit\n",
    "sns.countplot(x='housing', hue='deposit', data=df_cleaned, palette=['steelblue', 'indianred'], ax=axs[0])\n",
    "axs[0].set_title('Frekuensi Housing dengan Status Deposit')\n",
    "axs[0].set_xlabel('Housing')\n",
    "axs[0].set_ylabel('Frekuensi')\n",
    "\n",
    "# Annotate the countplot\n",
    "for p in axs[0].patches:\n",
    "    height = p.get_height()\n",
    "    axs[0].annotate(f'{height}\\n({height/len(df)*100:.1f}%)', (p.get_x() + p.get_width() / 2., height),\n",
    "                    ha='center', va='center', xytext=(0, 10), textcoords='offset points')\n",
    "\n",
    "# Loan vs Deposit\n",
    "sns.countplot(x='loan', hue='deposit', data=df_cleaned, palette=['steelblue', 'indianred'], ax=axs[1])\n",
    "axs[1].set_title('Frekuensi Loan dengan Status Deposit')\n",
    "axs[1].set_xlabel('Loan')\n",
    "axs[1].set_ylabel('Frekuensi')\n",
    "\n",
    "# Annotate the countplot\n",
    "for p in axs[1].patches:\n",
    "    height = p.get_height()\n",
    "    axs[1].annotate(f'{height}\\n({height/len(df)*100:.1f}%)', (p.get_x() + p.get_width() / 2., height),\n",
    "                    ha='center', va='center', xytext=(0, 10), textcoords='offset points')\n",
    "\n",
    "plt.tight_layout()\n",
    "plt.show()"
   ]
  },
  {
   "cell_type": "markdown",
   "metadata": {},
   "source": [
    "1. Housing vs. Deposit:\n",
    "\n",
    "Nasabah yang tidak memiliki pinjaman rumah (no) lebih cenderung melakukan deposito dibandingkan dengan nasabah yang memiliki pinjaman rumah (yes). Hal ini menunjukkan bahwa nasabah tanpa beban pinjaman rumah mungkin merasa lebih leluasa untuk menempatkan dana mereka dalam deposito.\n",
    "\n",
    "2. Loan vs. Deposit:\n",
    "\n",
    "Nasabah yang tidak memiliki pinjaman pribadi (no) lebih cenderung melakukan deposito dibandingkan dengan nasabah yang memiliki pinjaman pribadi (yes). Nasabah dengan beban pinjaman pribadi mungkin lebih enggan untuk mengunci uang mereka dalam deposito karena mereka mungkin membutuhkan likuiditas yang lebih tinggi untuk membayar pinjaman mereka."
   ]
  },
  {
   "cell_type": "markdown",
   "metadata": {},
   "source": [
    "#### **5. Feature Engineering**"
   ]
  },
  {
   "cell_type": "code",
   "execution_count": 697,
   "metadata": {},
   "outputs": [
    {
     "data": {
      "text/html": [
       "<div>\n",
       "<style scoped>\n",
       "    .dataframe tbody tr th:only-of-type {\n",
       "        vertical-align: middle;\n",
       "    }\n",
       "\n",
       "    .dataframe tbody tr th {\n",
       "        vertical-align: top;\n",
       "    }\n",
       "\n",
       "    .dataframe thead th {\n",
       "        text-align: right;\n",
       "    }\n",
       "</style>\n",
       "<table border=\"1\" class=\"dataframe\">\n",
       "  <thead>\n",
       "    <tr style=\"text-align: right;\">\n",
       "      <th></th>\n",
       "      <th>age</th>\n",
       "      <th>balance</th>\n",
       "      <th>campaign</th>\n",
       "      <th>pdays</th>\n",
       "    </tr>\n",
       "  </thead>\n",
       "  <tbody>\n",
       "    <tr>\n",
       "      <th>count</th>\n",
       "      <td>7414.000000</td>\n",
       "      <td>7414.000000</td>\n",
       "      <td>7414.000000</td>\n",
       "      <td>7414.000000</td>\n",
       "    </tr>\n",
       "    <tr>\n",
       "      <th>mean</th>\n",
       "      <td>40.807661</td>\n",
       "      <td>1234.369976</td>\n",
       "      <td>2.328972</td>\n",
       "      <td>43.843135</td>\n",
       "    </tr>\n",
       "    <tr>\n",
       "      <th>std</th>\n",
       "      <td>11.299294</td>\n",
       "      <td>1921.718041</td>\n",
       "      <td>1.955620</td>\n",
       "      <td>94.018547</td>\n",
       "    </tr>\n",
       "    <tr>\n",
       "      <th>min</th>\n",
       "      <td>18.000000</td>\n",
       "      <td>-6847.000000</td>\n",
       "      <td>1.000000</td>\n",
       "      <td>-1.000000</td>\n",
       "    </tr>\n",
       "    <tr>\n",
       "      <th>25%</th>\n",
       "      <td>32.000000</td>\n",
       "      <td>121.000000</td>\n",
       "      <td>1.000000</td>\n",
       "      <td>-1.000000</td>\n",
       "    </tr>\n",
       "    <tr>\n",
       "      <th>50%</th>\n",
       "      <td>38.000000</td>\n",
       "      <td>519.000000</td>\n",
       "      <td>2.000000</td>\n",
       "      <td>-1.000000</td>\n",
       "    </tr>\n",
       "    <tr>\n",
       "      <th>75%</th>\n",
       "      <td>48.750000</td>\n",
       "      <td>1573.750000</td>\n",
       "      <td>3.000000</td>\n",
       "      <td>-1.000000</td>\n",
       "    </tr>\n",
       "    <tr>\n",
       "      <th>max</th>\n",
       "      <td>87.000000</td>\n",
       "      <td>16786.000000</td>\n",
       "      <td>16.000000</td>\n",
       "      <td>470.000000</td>\n",
       "    </tr>\n",
       "  </tbody>\n",
       "</table>\n",
       "</div>"
      ],
      "text/plain": [
       "               age       balance     campaign        pdays\n",
       "count  7414.000000   7414.000000  7414.000000  7414.000000\n",
       "mean     40.807661   1234.369976     2.328972    43.843135\n",
       "std      11.299294   1921.718041     1.955620    94.018547\n",
       "min      18.000000  -6847.000000     1.000000    -1.000000\n",
       "25%      32.000000    121.000000     1.000000    -1.000000\n",
       "50%      38.000000    519.000000     2.000000    -1.000000\n",
       "75%      48.750000   1573.750000     3.000000    -1.000000\n",
       "max      87.000000  16786.000000    16.000000   470.000000"
      ]
     },
     "metadata": {},
     "output_type": "display_data"
    },
    {
     "data": {
      "text/html": [
       "<div>\n",
       "<style scoped>\n",
       "    .dataframe tbody tr th:only-of-type {\n",
       "        vertical-align: middle;\n",
       "    }\n",
       "\n",
       "    .dataframe tbody tr th {\n",
       "        vertical-align: top;\n",
       "    }\n",
       "\n",
       "    .dataframe thead th {\n",
       "        text-align: right;\n",
       "    }\n",
       "</style>\n",
       "<table border=\"1\" class=\"dataframe\">\n",
       "  <thead>\n",
       "    <tr style=\"text-align: right;\">\n",
       "      <th></th>\n",
       "      <th>job</th>\n",
       "      <th>housing</th>\n",
       "      <th>loan</th>\n",
       "      <th>contact</th>\n",
       "      <th>month</th>\n",
       "      <th>poutcome</th>\n",
       "      <th>deposit</th>\n",
       "    </tr>\n",
       "  </thead>\n",
       "  <tbody>\n",
       "    <tr>\n",
       "      <th>count</th>\n",
       "      <td>7414</td>\n",
       "      <td>7414</td>\n",
       "      <td>7414</td>\n",
       "      <td>7414</td>\n",
       "      <td>7414</td>\n",
       "      <td>7414</td>\n",
       "      <td>7414</td>\n",
       "    </tr>\n",
       "    <tr>\n",
       "      <th>unique</th>\n",
       "      <td>12</td>\n",
       "      <td>2</td>\n",
       "      <td>2</td>\n",
       "      <td>3</td>\n",
       "      <td>12</td>\n",
       "      <td>4</td>\n",
       "      <td>2</td>\n",
       "    </tr>\n",
       "    <tr>\n",
       "      <th>top</th>\n",
       "      <td>management</td>\n",
       "      <td>no</td>\n",
       "      <td>no</td>\n",
       "      <td>cellular</td>\n",
       "      <td>may</td>\n",
       "      <td>unknown</td>\n",
       "      <td>no</td>\n",
       "    </tr>\n",
       "    <tr>\n",
       "      <th>freq</th>\n",
       "      <td>1700</td>\n",
       "      <td>3890</td>\n",
       "      <td>6421</td>\n",
       "      <td>5341</td>\n",
       "      <td>1899</td>\n",
       "      <td>5665</td>\n",
       "      <td>3922</td>\n",
       "    </tr>\n",
       "  </tbody>\n",
       "</table>\n",
       "</div>"
      ],
      "text/plain": [
       "               job housing  loan   contact month poutcome deposit\n",
       "count         7414    7414  7414      7414  7414     7414    7414\n",
       "unique          12       2     2         3    12        4       2\n",
       "top     management      no    no  cellular   may  unknown      no\n",
       "freq          1700    3890  6421      5341  1899     5665    3922"
      ]
     },
     "metadata": {},
     "output_type": "display_data"
    }
   ],
   "source": [
    "# Describe column\n",
    "\n",
    "display(\n",
    "    # numerical variable\n",
    "    df_cleaned.describe(),\n",
    "    # categorical variable\n",
    "    df_cleaned.describe(include='object')\n",
    ")"
   ]
  },
  {
   "cell_type": "markdown",
   "metadata": {},
   "source": [
    "**Data Wrangling**"
   ]
  },
  {
   "cell_type": "code",
   "execution_count": 698,
   "metadata": {},
   "outputs": [
    {
     "data": {
      "text/html": [
       "<div>\n",
       "<style scoped>\n",
       "    .dataframe tbody tr th:only-of-type {\n",
       "        vertical-align: middle;\n",
       "    }\n",
       "\n",
       "    .dataframe tbody tr th {\n",
       "        vertical-align: top;\n",
       "    }\n",
       "\n",
       "    .dataframe thead th {\n",
       "        text-align: right;\n",
       "    }\n",
       "</style>\n",
       "<table border=\"1\" class=\"dataframe\">\n",
       "  <thead>\n",
       "    <tr style=\"text-align: right;\">\n",
       "      <th></th>\n",
       "      <th>age</th>\n",
       "      <th>job</th>\n",
       "      <th>balance</th>\n",
       "      <th>housing</th>\n",
       "      <th>loan</th>\n",
       "      <th>contact</th>\n",
       "      <th>month</th>\n",
       "      <th>campaign</th>\n",
       "      <th>pdays</th>\n",
       "      <th>poutcome</th>\n",
       "      <th>deposit</th>\n",
       "    </tr>\n",
       "  </thead>\n",
       "  <tbody>\n",
       "    <tr>\n",
       "      <th>0</th>\n",
       "      <td>55</td>\n",
       "      <td>admin.</td>\n",
       "      <td>1662</td>\n",
       "      <td>no</td>\n",
       "      <td>no</td>\n",
       "      <td>cellular</td>\n",
       "      <td>jun</td>\n",
       "      <td>2</td>\n",
       "      <td>-1</td>\n",
       "      <td>unknown</td>\n",
       "      <td>1</td>\n",
       "    </tr>\n",
       "    <tr>\n",
       "      <th>1</th>\n",
       "      <td>39</td>\n",
       "      <td>self-employed</td>\n",
       "      <td>-3058</td>\n",
       "      <td>yes</td>\n",
       "      <td>yes</td>\n",
       "      <td>cellular</td>\n",
       "      <td>apr</td>\n",
       "      <td>3</td>\n",
       "      <td>-1</td>\n",
       "      <td>unknown</td>\n",
       "      <td>1</td>\n",
       "    </tr>\n",
       "    <tr>\n",
       "      <th>2</th>\n",
       "      <td>51</td>\n",
       "      <td>admin.</td>\n",
       "      <td>3025</td>\n",
       "      <td>no</td>\n",
       "      <td>no</td>\n",
       "      <td>cellular</td>\n",
       "      <td>may</td>\n",
       "      <td>1</td>\n",
       "      <td>352</td>\n",
       "      <td>other</td>\n",
       "      <td>1</td>\n",
       "    </tr>\n",
       "    <tr>\n",
       "      <th>3</th>\n",
       "      <td>38</td>\n",
       "      <td>services</td>\n",
       "      <td>-87</td>\n",
       "      <td>yes</td>\n",
       "      <td>no</td>\n",
       "      <td>cellular</td>\n",
       "      <td>may</td>\n",
       "      <td>1</td>\n",
       "      <td>-1</td>\n",
       "      <td>unknown</td>\n",
       "      <td>0</td>\n",
       "    </tr>\n",
       "    <tr>\n",
       "      <th>4</th>\n",
       "      <td>36</td>\n",
       "      <td>housemaid</td>\n",
       "      <td>205</td>\n",
       "      <td>yes</td>\n",
       "      <td>no</td>\n",
       "      <td>telephone</td>\n",
       "      <td>nov</td>\n",
       "      <td>4</td>\n",
       "      <td>-1</td>\n",
       "      <td>unknown</td>\n",
       "      <td>0</td>\n",
       "    </tr>\n",
       "  </tbody>\n",
       "</table>\n",
       "</div>"
      ],
      "text/plain": [
       "   age            job  balance housing loan    contact month  campaign  pdays  \\\n",
       "0   55         admin.     1662      no   no   cellular   jun         2     -1   \n",
       "1   39  self-employed    -3058     yes  yes   cellular   apr         3     -1   \n",
       "2   51         admin.     3025      no   no   cellular   may         1    352   \n",
       "3   38       services      -87     yes   no   cellular   may         1     -1   \n",
       "4   36      housemaid      205     yes   no  telephone   nov         4     -1   \n",
       "\n",
       "  poutcome  deposit  \n",
       "0  unknown        1  \n",
       "1  unknown        1  \n",
       "2    other        1  \n",
       "3  unknown        0  \n",
       "4  unknown        0  "
      ]
     },
     "metadata": {},
     "output_type": "display_data"
    }
   ],
   "source": [
    "# Change deposit values 'no' dan ' yes\n",
    "df_cleaned['deposit'] = df_cleaned['deposit'].map({'yes': 1, 'no': 0})\n",
    "\n",
    "# Check the result\n",
    "display(df_cleaned.head())"
   ]
  },
  {
   "cell_type": "code",
   "execution_count": 699,
   "metadata": {},
   "outputs": [
    {
     "data": {
      "text/plain": [
       "deposit\n",
       "0    3922\n",
       "1    3492\n",
       "Name: count, dtype: int64"
      ]
     },
     "execution_count": 699,
     "metadata": {},
     "output_type": "execute_result"
    }
   ],
   "source": [
    "# Verify the changes\n",
    "df_cleaned['deposit'].value_counts()"
   ]
  },
  {
   "cell_type": "markdown",
   "metadata": {},
   "source": [
    "**Data Typo**"
   ]
  },
  {
   "cell_type": "code",
   "execution_count": 700,
   "metadata": {},
   "outputs": [
    {
     "name": "stdout",
     "output_type": "stream",
     "text": [
      "Feature job: ['admin.' 'self-employed' 'services' 'housemaid' 'technician' 'management'\n",
      " 'student' 'blue-collar' 'entrepreneur' 'retired' 'unemployed' 'unknown']\n",
      "Feature housing: ['no' 'yes']\n",
      "Feature loan: ['no' 'yes']\n",
      "Feature contact: ['cellular' 'telephone' 'unknown']\n",
      "Feature month: ['jun' 'apr' 'may' 'nov' 'jan' 'sep' 'feb' 'mar' 'aug' 'jul' 'oct' 'dec']\n",
      "Feature poutcome: ['unknown' 'other' 'failure' 'success']\n"
     ]
    }
   ],
   "source": [
    "# Check typo for categorical column\n",
    "cat_columns = ['job', 'housing', 'loan', 'contact', 'month','poutcome']\n",
    "\n",
    "for i in cat_columns:\n",
    "    uniqueValue = df_cleaned[i].unique()\n",
    "    print(f\"Feature {i}: {uniqueValue}\")"
   ]
  },
  {
   "cell_type": "markdown",
   "metadata": {},
   "source": [
    "Pada kolom `job` terdapat typo yaitu **admin.**, kita akan mengatasinya."
   ]
  },
  {
   "cell_type": "code",
   "execution_count": 701,
   "metadata": {},
   "outputs": [
    {
     "data": {
      "text/plain": [
       "array(['admin', 'self-employed', 'services', 'housemaid', 'technician',\n",
       "       'management', 'student', 'blue-collar', 'entrepreneur', 'retired',\n",
       "       'unemployed', 'unknown'], dtype=object)"
      ]
     },
     "execution_count": 701,
     "metadata": {},
     "output_type": "execute_result"
    }
   ],
   "source": [
    "# Rename admin with replace\n",
    "df_cleaned['job'] = df_cleaned['job'].replace({'admin.': 'admin'})\n",
    "df_cleaned['job'].unique()"
   ]
  },
  {
   "cell_type": "markdown",
   "metadata": {},
   "source": [
    "**Encoding Variable Categorical and Numerical**"
   ]
  },
  {
   "cell_type": "code",
   "execution_count": 702,
   "metadata": {},
   "outputs": [
    {
     "data": {
      "text/plain": [
       "job\n",
       "management       1700\n",
       "blue-collar      1294\n",
       "technician       1231\n",
       "unemployed        972\n",
       "admin             908\n",
       "services          814\n",
       "self-employed     267\n",
       "entrepreneur      228\n",
       "Name: count, dtype: int64"
      ]
     },
     "execution_count": 702,
     "metadata": {},
     "output_type": "execute_result"
    }
   ],
   "source": [
    "# Combine 'retired', 'student', 'unknown' into 'unemployed' in the 'job' column\n",
    "df_cleaned['job'] = df_cleaned['job'].replace({'retired': 'unemployed', 'student': 'unemployed', 'unknown': 'unemployed'})\n",
    "\n",
    "# Change 'housemaid' category to 'services' in the 'job' column\n",
    "df_cleaned['job'] = df_cleaned['job'].replace({'housemaid': 'services'})\n",
    "\n",
    "# Verify the changes\n",
    "df_cleaned['job'].value_counts()"
   ]
  },
  {
   "cell_type": "markdown",
   "metadata": {},
   "source": [
    "Menggabungkan kategori pekerjaan yang serupa untuk menyederhanakan analisis dan model. Menggabungkan **student, retired, dan unknown** menjadi **unemployed** karena sedang tidak bekerja dan mengasumsikan **unknown** menjadi **unemployed** karena tidak diketahui informasinya.\n",
    "\n",
    "Serta **housemaid** menjadi **services** karena masih termasuk kategori pekerjaan yang sama. [sumber](https://en.wikipedia.org/wiki/Maid)"
   ]
  },
  {
   "cell_type": "code",
   "execution_count": 703,
   "metadata": {},
   "outputs": [
    {
     "data": {
      "text/plain": [
       "array(['other', 'failure', 'success'], dtype=object)"
      ]
     },
     "execution_count": 703,
     "metadata": {},
     "output_type": "execute_result"
    }
   ],
   "source": [
    "# Combine 'unknown' category into 'other' in the 'poutcome' column\n",
    "df_cleaned['poutcome'] = df_cleaned['poutcome'].replace({'unknown': 'other'})\n",
    "\n",
    "# Verify the changes\n",
    "df_cleaned['poutcome'].unique()"
   ]
  },
  {
   "cell_type": "markdown",
   "metadata": {},
   "source": [
    "Penggabungan kategori **unknown** dengan **other** pada kolom `poutcome` karena informasinya tidak diketahui."
   ]
  },
  {
   "cell_type": "code",
   "execution_count": 704,
   "metadata": {},
   "outputs": [
    {
     "data": {
      "text/plain": [
       "month\n",
       "1      221\n",
       "2      510\n",
       "3      183\n",
       "4      631\n",
       "5     1899\n",
       "6      825\n",
       "7      994\n",
       "8     1021\n",
       "9      179\n",
       "10     260\n",
       "11     630\n",
       "12      61\n",
       "Name: count, dtype: int64"
      ]
     },
     "execution_count": 704,
     "metadata": {},
     "output_type": "execute_result"
    }
   ],
   "source": [
    "# Define the correct order of the months with numerical encoding starting from 1 for January\n",
    "month_mapping = {'jan': 1, 'feb': 2, 'mar': 3, 'apr': 4, 'may': 5, 'jun': 6, 'jul': 7, 'aug': 8, 'sep': 9, 'oct': 10, 'nov': 11, 'dec': 12}\n",
    "\n",
    "# Apply the mapping to the 'month' column\n",
    "df_cleaned['month'] = df_cleaned['month'].map(month_mapping)\n",
    "\n",
    "# Verify the changes\n",
    "df_cleaned['month'].value_counts().sort_index()"
   ]
  },
  {
   "cell_type": "markdown",
   "metadata": {},
   "source": [
    "Merubah fitur/kolom `month` menggunakan Ordinal Encoding, karena fitur ini memiliki urutan."
   ]
  },
  {
   "cell_type": "code",
   "execution_count": 705,
   "metadata": {},
   "outputs": [
    {
     "data": {
      "text/plain": [
       "balance_category\n",
       "low         3859\n",
       "medium      2196\n",
       "negative     988\n",
       "high         371\n",
       "Name: count, dtype: int64"
      ]
     },
     "execution_count": 705,
     "metadata": {},
     "output_type": "execute_result"
    }
   ],
   "source": [
    "# Create a new feature 'balance_category' based on the 'balance' column\n",
    "# Define balance categories\n",
    "bins = [-float('inf'), 0, 1000, 5000, float('inf')]\n",
    "labels = ['negative', 'low', 'medium', 'high']\n",
    "\n",
    "# Apply the bins and labels to create the new 'balance_category' column\n",
    "df_cleaned['balance_category'] = pd.cut(df_cleaned['balance'], bins=bins, labels=labels)\n",
    "\n",
    "# Verify the new column\n",
    "df_cleaned['balance_category'].value_counts()"
   ]
  },
  {
   "cell_type": "code",
   "execution_count": 706,
   "metadata": {},
   "outputs": [
    {
     "data": {
      "text/html": [
       "<div>\n",
       "<style scoped>\n",
       "    .dataframe tbody tr th:only-of-type {\n",
       "        vertical-align: middle;\n",
       "    }\n",
       "\n",
       "    .dataframe tbody tr th {\n",
       "        vertical-align: top;\n",
       "    }\n",
       "\n",
       "    .dataframe thead th {\n",
       "        text-align: right;\n",
       "    }\n",
       "</style>\n",
       "<table border=\"1\" class=\"dataframe\">\n",
       "  <thead>\n",
       "    <tr style=\"text-align: right;\">\n",
       "      <th></th>\n",
       "      <th>age</th>\n",
       "      <th>balance</th>\n",
       "      <th>campaign</th>\n",
       "      <th>pdays</th>\n",
       "    </tr>\n",
       "  </thead>\n",
       "  <tbody>\n",
       "    <tr>\n",
       "      <th>0</th>\n",
       "      <td>1.256122</td>\n",
       "      <td>0.222540</td>\n",
       "      <td>-0.168230</td>\n",
       "      <td>-0.476993</td>\n",
       "    </tr>\n",
       "    <tr>\n",
       "      <th>1</th>\n",
       "      <td>-0.159991</td>\n",
       "      <td>-2.233761</td>\n",
       "      <td>0.343151</td>\n",
       "      <td>-0.476993</td>\n",
       "    </tr>\n",
       "    <tr>\n",
       "      <th>2</th>\n",
       "      <td>0.902094</td>\n",
       "      <td>0.931849</td>\n",
       "      <td>-0.679612</td>\n",
       "      <td>3.277839</td>\n",
       "    </tr>\n",
       "    <tr>\n",
       "      <th>3</th>\n",
       "      <td>-0.248498</td>\n",
       "      <td>-0.687645</td>\n",
       "      <td>-0.679612</td>\n",
       "      <td>-0.476993</td>\n",
       "    </tr>\n",
       "    <tr>\n",
       "      <th>4</th>\n",
       "      <td>-0.425512</td>\n",
       "      <td>-0.535687</td>\n",
       "      <td>0.854532</td>\n",
       "      <td>-0.476993</td>\n",
       "    </tr>\n",
       "  </tbody>\n",
       "</table>\n",
       "</div>"
      ],
      "text/plain": [
       "        age   balance  campaign     pdays\n",
       "0  1.256122  0.222540 -0.168230 -0.476993\n",
       "1 -0.159991 -2.233761  0.343151 -0.476993\n",
       "2  0.902094  0.931849 -0.679612  3.277839\n",
       "3 -0.248498 -0.687645 -0.679612 -0.476993\n",
       "4 -0.425512 -0.535687  0.854532 -0.476993"
      ]
     },
     "execution_count": 706,
     "metadata": {},
     "output_type": "execute_result"
    }
   ],
   "source": [
    "# Identify numerical columns to be normalized\n",
    "numerical_cols_to_normalize = ['age', 'balance', 'campaign', 'pdays']\n",
    "\n",
    "# Initialize the scaler\n",
    "scaler = StandardScaler()\n",
    "\n",
    "# Apply the scaler to the numerical columns\n",
    "df_cleaned[numerical_cols_to_normalize] = scaler.fit_transform(df_cleaned[numerical_cols_to_normalize])\n",
    "\n",
    "# Verify the normalization\n",
    "df_cleaned[numerical_cols_to_normalize].head()"
   ]
  },
  {
   "cell_type": "markdown",
   "metadata": {},
   "source": [
    "Alasan melakukan normalisasi fitur numerik untuk konsistensi skala karena fitur dengan skala yang berbeda bisa mempengaruhi kinerja algoritma pembelajaran mesin.\n",
    "\n",
    "Disini saya menggunakan StandarScaler karena mentransformasi data sedemikian rupa sehingga memiliki rata-rata 0 dan standar deviasi 1. Ini memastikan bahwa setiap fitur memiliki distribusi yang serupa, yang ideal untuk banyak algoritma pembelajaran mesin. \n",
    "\n",
    "Lalu konsistensi StandardScaler adalah metode umum yang sering digunakan dan dianggap standar dalam praktek machine learning. Ini memberikan konsistensi dalam proses dan membuat model lebih mudah direplikasi dan dipahami oleh orang lain."
   ]
  },
  {
   "cell_type": "code",
   "execution_count": 707,
   "metadata": {},
   "outputs": [
    {
     "data": {
      "text/html": [
       "<div>\n",
       "<style scoped>\n",
       "    .dataframe tbody tr th:only-of-type {\n",
       "        vertical-align: middle;\n",
       "    }\n",
       "\n",
       "    .dataframe tbody tr th {\n",
       "        vertical-align: top;\n",
       "    }\n",
       "\n",
       "    .dataframe thead th {\n",
       "        text-align: right;\n",
       "    }\n",
       "</style>\n",
       "<table border=\"1\" class=\"dataframe\">\n",
       "  <thead>\n",
       "    <tr style=\"text-align: right;\">\n",
       "      <th></th>\n",
       "      <th>age</th>\n",
       "      <th>job</th>\n",
       "      <th>balance</th>\n",
       "      <th>housing</th>\n",
       "      <th>loan</th>\n",
       "      <th>contact</th>\n",
       "      <th>month</th>\n",
       "      <th>campaign</th>\n",
       "      <th>pdays</th>\n",
       "      <th>poutcome</th>\n",
       "      <th>deposit</th>\n",
       "      <th>balance_category</th>\n",
       "    </tr>\n",
       "  </thead>\n",
       "  <tbody>\n",
       "    <tr>\n",
       "      <th>0</th>\n",
       "      <td>1.256122</td>\n",
       "      <td>admin</td>\n",
       "      <td>0.222540</td>\n",
       "      <td>no</td>\n",
       "      <td>no</td>\n",
       "      <td>cellular</td>\n",
       "      <td>6</td>\n",
       "      <td>-0.168230</td>\n",
       "      <td>-0.476993</td>\n",
       "      <td>other</td>\n",
       "      <td>1</td>\n",
       "      <td>medium</td>\n",
       "    </tr>\n",
       "    <tr>\n",
       "      <th>1</th>\n",
       "      <td>-0.159991</td>\n",
       "      <td>self-employed</td>\n",
       "      <td>-2.233761</td>\n",
       "      <td>yes</td>\n",
       "      <td>yes</td>\n",
       "      <td>cellular</td>\n",
       "      <td>4</td>\n",
       "      <td>0.343151</td>\n",
       "      <td>-0.476993</td>\n",
       "      <td>other</td>\n",
       "      <td>1</td>\n",
       "      <td>negative</td>\n",
       "    </tr>\n",
       "    <tr>\n",
       "      <th>2</th>\n",
       "      <td>0.902094</td>\n",
       "      <td>admin</td>\n",
       "      <td>0.931849</td>\n",
       "      <td>no</td>\n",
       "      <td>no</td>\n",
       "      <td>cellular</td>\n",
       "      <td>5</td>\n",
       "      <td>-0.679612</td>\n",
       "      <td>3.277839</td>\n",
       "      <td>other</td>\n",
       "      <td>1</td>\n",
       "      <td>medium</td>\n",
       "    </tr>\n",
       "    <tr>\n",
       "      <th>3</th>\n",
       "      <td>-0.248498</td>\n",
       "      <td>services</td>\n",
       "      <td>-0.687645</td>\n",
       "      <td>yes</td>\n",
       "      <td>no</td>\n",
       "      <td>cellular</td>\n",
       "      <td>5</td>\n",
       "      <td>-0.679612</td>\n",
       "      <td>-0.476993</td>\n",
       "      <td>other</td>\n",
       "      <td>0</td>\n",
       "      <td>negative</td>\n",
       "    </tr>\n",
       "    <tr>\n",
       "      <th>4</th>\n",
       "      <td>-0.425512</td>\n",
       "      <td>services</td>\n",
       "      <td>-0.535687</td>\n",
       "      <td>yes</td>\n",
       "      <td>no</td>\n",
       "      <td>telephone</td>\n",
       "      <td>11</td>\n",
       "      <td>0.854532</td>\n",
       "      <td>-0.476993</td>\n",
       "      <td>other</td>\n",
       "      <td>0</td>\n",
       "      <td>low</td>\n",
       "    </tr>\n",
       "  </tbody>\n",
       "</table>\n",
       "</div>"
      ],
      "text/plain": [
       "        age            job   balance housing loan    contact  month  campaign  \\\n",
       "0  1.256122          admin  0.222540      no   no   cellular      6 -0.168230   \n",
       "1 -0.159991  self-employed -2.233761     yes  yes   cellular      4  0.343151   \n",
       "2  0.902094          admin  0.931849      no   no   cellular      5 -0.679612   \n",
       "3 -0.248498       services -0.687645     yes   no   cellular      5 -0.679612   \n",
       "4 -0.425512       services -0.535687     yes   no  telephone     11  0.854532   \n",
       "\n",
       "      pdays poutcome  deposit balance_category  \n",
       "0 -0.476993    other        1           medium  \n",
       "1 -0.476993    other        1         negative  \n",
       "2  3.277839    other        1           medium  \n",
       "3 -0.476993    other        0         negative  \n",
       "4 -0.476993    other        0              low  "
      ]
     },
     "execution_count": 707,
     "metadata": {},
     "output_type": "execute_result"
    }
   ],
   "source": [
    "df_cleaned.head()"
   ]
  },
  {
   "cell_type": "code",
   "execution_count": 708,
   "metadata": {},
   "outputs": [
    {
     "data": {
      "text/html": [
       "<div>\n",
       "<style scoped>\n",
       "    .dataframe tbody tr th:only-of-type {\n",
       "        vertical-align: middle;\n",
       "    }\n",
       "\n",
       "    .dataframe tbody tr th {\n",
       "        vertical-align: top;\n",
       "    }\n",
       "\n",
       "    .dataframe thead th {\n",
       "        text-align: right;\n",
       "    }\n",
       "</style>\n",
       "<table border=\"1\" class=\"dataframe\">\n",
       "  <thead>\n",
       "    <tr style=\"text-align: right;\">\n",
       "      <th></th>\n",
       "      <th>age</th>\n",
       "      <th>balance</th>\n",
       "      <th>month</th>\n",
       "      <th>campaign</th>\n",
       "      <th>pdays</th>\n",
       "      <th>deposit</th>\n",
       "      <th>job_blue-collar</th>\n",
       "      <th>job_entrepreneur</th>\n",
       "      <th>job_management</th>\n",
       "      <th>job_self-employed</th>\n",
       "      <th>...</th>\n",
       "      <th>job_unemployed</th>\n",
       "      <th>housing_yes</th>\n",
       "      <th>loan_yes</th>\n",
       "      <th>contact_telephone</th>\n",
       "      <th>contact_unknown</th>\n",
       "      <th>poutcome_other</th>\n",
       "      <th>poutcome_success</th>\n",
       "      <th>balance_category_low</th>\n",
       "      <th>balance_category_medium</th>\n",
       "      <th>balance_category_high</th>\n",
       "    </tr>\n",
       "  </thead>\n",
       "  <tbody>\n",
       "    <tr>\n",
       "      <th>0</th>\n",
       "      <td>1</td>\n",
       "      <td>0</td>\n",
       "      <td>6</td>\n",
       "      <td>0</td>\n",
       "      <td>0</td>\n",
       "      <td>1</td>\n",
       "      <td>0</td>\n",
       "      <td>0</td>\n",
       "      <td>0</td>\n",
       "      <td>0</td>\n",
       "      <td>...</td>\n",
       "      <td>0</td>\n",
       "      <td>0</td>\n",
       "      <td>0</td>\n",
       "      <td>0</td>\n",
       "      <td>0</td>\n",
       "      <td>1</td>\n",
       "      <td>0</td>\n",
       "      <td>0</td>\n",
       "      <td>1</td>\n",
       "      <td>0</td>\n",
       "    </tr>\n",
       "    <tr>\n",
       "      <th>1</th>\n",
       "      <td>0</td>\n",
       "      <td>-2</td>\n",
       "      <td>4</td>\n",
       "      <td>0</td>\n",
       "      <td>0</td>\n",
       "      <td>1</td>\n",
       "      <td>0</td>\n",
       "      <td>0</td>\n",
       "      <td>0</td>\n",
       "      <td>1</td>\n",
       "      <td>...</td>\n",
       "      <td>0</td>\n",
       "      <td>1</td>\n",
       "      <td>1</td>\n",
       "      <td>0</td>\n",
       "      <td>0</td>\n",
       "      <td>1</td>\n",
       "      <td>0</td>\n",
       "      <td>0</td>\n",
       "      <td>0</td>\n",
       "      <td>0</td>\n",
       "    </tr>\n",
       "    <tr>\n",
       "      <th>2</th>\n",
       "      <td>0</td>\n",
       "      <td>0</td>\n",
       "      <td>5</td>\n",
       "      <td>0</td>\n",
       "      <td>3</td>\n",
       "      <td>1</td>\n",
       "      <td>0</td>\n",
       "      <td>0</td>\n",
       "      <td>0</td>\n",
       "      <td>0</td>\n",
       "      <td>...</td>\n",
       "      <td>0</td>\n",
       "      <td>0</td>\n",
       "      <td>0</td>\n",
       "      <td>0</td>\n",
       "      <td>0</td>\n",
       "      <td>1</td>\n",
       "      <td>0</td>\n",
       "      <td>0</td>\n",
       "      <td>1</td>\n",
       "      <td>0</td>\n",
       "    </tr>\n",
       "    <tr>\n",
       "      <th>3</th>\n",
       "      <td>0</td>\n",
       "      <td>0</td>\n",
       "      <td>5</td>\n",
       "      <td>0</td>\n",
       "      <td>0</td>\n",
       "      <td>0</td>\n",
       "      <td>0</td>\n",
       "      <td>0</td>\n",
       "      <td>0</td>\n",
       "      <td>0</td>\n",
       "      <td>...</td>\n",
       "      <td>0</td>\n",
       "      <td>1</td>\n",
       "      <td>0</td>\n",
       "      <td>0</td>\n",
       "      <td>0</td>\n",
       "      <td>1</td>\n",
       "      <td>0</td>\n",
       "      <td>0</td>\n",
       "      <td>0</td>\n",
       "      <td>0</td>\n",
       "    </tr>\n",
       "    <tr>\n",
       "      <th>4</th>\n",
       "      <td>0</td>\n",
       "      <td>0</td>\n",
       "      <td>11</td>\n",
       "      <td>0</td>\n",
       "      <td>0</td>\n",
       "      <td>0</td>\n",
       "      <td>0</td>\n",
       "      <td>0</td>\n",
       "      <td>0</td>\n",
       "      <td>0</td>\n",
       "      <td>...</td>\n",
       "      <td>0</td>\n",
       "      <td>1</td>\n",
       "      <td>0</td>\n",
       "      <td>1</td>\n",
       "      <td>0</td>\n",
       "      <td>1</td>\n",
       "      <td>0</td>\n",
       "      <td>1</td>\n",
       "      <td>0</td>\n",
       "      <td>0</td>\n",
       "    </tr>\n",
       "  </tbody>\n",
       "</table>\n",
       "<p>5 rows × 22 columns</p>\n",
       "</div>"
      ],
      "text/plain": [
       "   age  balance  month  campaign  pdays  deposit  job_blue-collar  \\\n",
       "0    1        0      6         0      0        1                0   \n",
       "1    0       -2      4         0      0        1                0   \n",
       "2    0        0      5         0      3        1                0   \n",
       "3    0        0      5         0      0        0                0   \n",
       "4    0        0     11         0      0        0                0   \n",
       "\n",
       "   job_entrepreneur  job_management  job_self-employed  ...  job_unemployed  \\\n",
       "0                 0               0                  0  ...               0   \n",
       "1                 0               0                  1  ...               0   \n",
       "2                 0               0                  0  ...               0   \n",
       "3                 0               0                  0  ...               0   \n",
       "4                 0               0                  0  ...               0   \n",
       "\n",
       "   housing_yes  loan_yes  contact_telephone  contact_unknown  poutcome_other  \\\n",
       "0            0         0                  0                0               1   \n",
       "1            1         1                  0                0               1   \n",
       "2            0         0                  0                0               1   \n",
       "3            1         0                  0                0               1   \n",
       "4            1         0                  1                0               1   \n",
       "\n",
       "   poutcome_success  balance_category_low  balance_category_medium  \\\n",
       "0                 0                     0                        1   \n",
       "1                 0                     0                        0   \n",
       "2                 0                     0                        1   \n",
       "3                 0                     0                        0   \n",
       "4                 0                     1                        0   \n",
       "\n",
       "   balance_category_high  \n",
       "0                      0  \n",
       "1                      0  \n",
       "2                      0  \n",
       "3                      0  \n",
       "4                      0  \n",
       "\n",
       "[5 rows x 22 columns]"
      ]
     },
     "execution_count": 708,
     "metadata": {},
     "output_type": "execute_result"
    }
   ],
   "source": [
    "# Perform One-Hot Encoding again after combining categories\n",
    "df_encoded = pd.get_dummies(df_cleaned, columns=['job', 'housing', 'loan', 'contact', 'poutcome', 'balance_category'], drop_first=True).astype(int)\n",
    "\n",
    "# Verify the changes\n",
    "df_encoded.head()"
   ]
  },
  {
   "cell_type": "markdown",
   "metadata": {},
   "source": [
    "Melakukan One-Hot Encoding setelah menggabungkan kategori membantu dalam mengubah variabel kategorikal menjadi format numerik yang dapat digunakan oleh algoritma machine learning."
   ]
  },
  {
   "cell_type": "code",
   "execution_count": 709,
   "metadata": {},
   "outputs": [
    {
     "name": "stdout",
     "output_type": "stream",
     "text": [
      "<class 'pandas.core.frame.DataFrame'>\n",
      "Index: 7414 entries, 0 to 7804\n",
      "Data columns (total 22 columns):\n",
      " #   Column                   Non-Null Count  Dtype\n",
      "---  ------                   --------------  -----\n",
      " 0   age                      7414 non-null   int32\n",
      " 1   balance                  7414 non-null   int32\n",
      " 2   month                    7414 non-null   int32\n",
      " 3   campaign                 7414 non-null   int32\n",
      " 4   pdays                    7414 non-null   int32\n",
      " 5   deposit                  7414 non-null   int32\n",
      " 6   job_blue-collar          7414 non-null   int32\n",
      " 7   job_entrepreneur         7414 non-null   int32\n",
      " 8   job_management           7414 non-null   int32\n",
      " 9   job_self-employed        7414 non-null   int32\n",
      " 10  job_services             7414 non-null   int32\n",
      " 11  job_technician           7414 non-null   int32\n",
      " 12  job_unemployed           7414 non-null   int32\n",
      " 13  housing_yes              7414 non-null   int32\n",
      " 14  loan_yes                 7414 non-null   int32\n",
      " 15  contact_telephone        7414 non-null   int32\n",
      " 16  contact_unknown          7414 non-null   int32\n",
      " 17  poutcome_other           7414 non-null   int32\n",
      " 18  poutcome_success         7414 non-null   int32\n",
      " 19  balance_category_low     7414 non-null   int32\n",
      " 20  balance_category_medium  7414 non-null   int32\n",
      " 21  balance_category_high    7414 non-null   int32\n",
      "dtypes: int32(22)\n",
      "memory usage: 695.1 KB\n"
     ]
    }
   ],
   "source": [
    "df_encoded.info()"
   ]
  },
  {
   "cell_type": "markdown",
   "metadata": {},
   "source": [
    "#### **6. Model Building**"
   ]
  },
  {
   "cell_type": "code",
   "execution_count": 710,
   "metadata": {},
   "outputs": [
    {
     "data": {
      "text/html": [
       "<div>\n",
       "<style scoped>\n",
       "    .dataframe tbody tr th:only-of-type {\n",
       "        vertical-align: middle;\n",
       "    }\n",
       "\n",
       "    .dataframe tbody tr th {\n",
       "        vertical-align: top;\n",
       "    }\n",
       "\n",
       "    .dataframe thead th {\n",
       "        text-align: right;\n",
       "    }\n",
       "</style>\n",
       "<table border=\"1\" class=\"dataframe\">\n",
       "  <thead>\n",
       "    <tr style=\"text-align: right;\">\n",
       "      <th></th>\n",
       "      <th>accuracy</th>\n",
       "      <th>precision</th>\n",
       "      <th>recall</th>\n",
       "      <th>f1_score</th>\n",
       "    </tr>\n",
       "  </thead>\n",
       "  <tbody>\n",
       "    <tr>\n",
       "      <th>Logistic Regression</th>\n",
       "      <td>0.690492</td>\n",
       "      <td>0.681887</td>\n",
       "      <td>0.641834</td>\n",
       "      <td>0.661255</td>\n",
       "    </tr>\n",
       "    <tr>\n",
       "      <th>Decision Tree</th>\n",
       "      <td>0.674983</td>\n",
       "      <td>0.676471</td>\n",
       "      <td>0.593123</td>\n",
       "      <td>0.632061</td>\n",
       "    </tr>\n",
       "    <tr>\n",
       "      <th>Random Forest</th>\n",
       "      <td>0.687795</td>\n",
       "      <td>0.684458</td>\n",
       "      <td>0.624642</td>\n",
       "      <td>0.653184</td>\n",
       "    </tr>\n",
       "    <tr>\n",
       "      <th>Gradient Boosting</th>\n",
       "      <td>0.734997</td>\n",
       "      <td>0.777778</td>\n",
       "      <td>0.611748</td>\n",
       "      <td>0.684844</td>\n",
       "    </tr>\n",
       "    <tr>\n",
       "      <th>Support Vector Machine</th>\n",
       "      <td>0.716116</td>\n",
       "      <td>0.745133</td>\n",
       "      <td>0.603152</td>\n",
       "      <td>0.666667</td>\n",
       "    </tr>\n",
       "    <tr>\n",
       "      <th>K-Nearest Neighbors</th>\n",
       "      <td>0.678355</td>\n",
       "      <td>0.672387</td>\n",
       "      <td>0.617479</td>\n",
       "      <td>0.643764</td>\n",
       "    </tr>\n",
       "  </tbody>\n",
       "</table>\n",
       "</div>"
      ],
      "text/plain": [
       "                        accuracy  precision    recall  f1_score\n",
       "Logistic Regression     0.690492   0.681887  0.641834  0.661255\n",
       "Decision Tree           0.674983   0.676471  0.593123  0.632061\n",
       "Random Forest           0.687795   0.684458  0.624642  0.653184\n",
       "Gradient Boosting       0.734997   0.777778  0.611748  0.684844\n",
       "Support Vector Machine  0.716116   0.745133  0.603152  0.666667\n",
       "K-Nearest Neighbors     0.678355   0.672387  0.617479  0.643764"
      ]
     },
     "execution_count": 710,
     "metadata": {},
     "output_type": "execute_result"
    }
   ],
   "source": [
    "# Split the data into training and testing sets\n",
    "X = df_encoded.drop('deposit', axis=1)\n",
    "y = df_encoded['deposit']\n",
    "\n",
    "X_train, X_test, y_train, y_test = train_test_split(X, y, test_size=0.2, random_state=42, stratify=y)\n",
    "\n",
    "# Initialize the models\n",
    "models = {\n",
    "    'Logistic Regression': LogisticRegression(max_iter=1000, random_state=42),\n",
    "    'Decision Tree': DecisionTreeClassifier(random_state=42),\n",
    "    'Random Forest': RandomForestClassifier(random_state=42),\n",
    "    'Gradient Boosting': GradientBoostingClassifier(random_state=42),\n",
    "    'Support Vector Machine': SVC(random_state=42),\n",
    "    'K-Nearest Neighbors': KNeighborsClassifier()\n",
    "}\n",
    "\n",
    "# Train and evaluate each model\n",
    "results = {}\n",
    "for model_name, model in models.items():\n",
    "    model.fit(X_train, y_train)\n",
    "    y_pred = model.predict(X_test)\n",
    "    results[model_name] = {\n",
    "        'accuracy': accuracy_score(y_test, y_pred),\n",
    "        'precision': precision_score(y_test, y_pred),\n",
    "        'recall': recall_score(y_test, y_pred),\n",
    "        'f1_score': f1_score(y_test, y_pred)\n",
    "    }\n",
    "\n",
    "pd.DataFrame(results).T"
   ]
  },
  {
   "cell_type": "markdown",
   "metadata": {},
   "source": [
    "- Membagi data untuk melatih model dan menguji performanya pada data yang belum pernah dilihat model, sehingga dapat mengukur generalisasi model.\n",
    "- Menggunakan beberapa model untuk membandingkan performa dan memilih model terbaik untuk masalah klasifikasi ini.\n",
    "- Melatih model untuk belajar dari data pelatihan dan mengevaluasi model pada data pengujian untuk mengukur performa sebenarnya.\n",
    "- Menyimpan metrik evaluasi untuk membandingkan model dan memilih yang terbaik"
   ]
  },
  {
   "cell_type": "markdown",
   "metadata": {},
   "source": [
    "Gradient Boosting menunjukkan kinerja terbaik berdasarkan F1-Score.\n",
    "\n",
    "Langkah selanjutnya adalah melakukan hyperparameter tuning pada model yang berkinerja terbaik (Gradient Boosting) untuk meningkatkan kinerjanya."
   ]
  },
  {
   "cell_type": "code",
   "execution_count": 711,
   "metadata": {},
   "outputs": [
    {
     "name": "stdout",
     "output_type": "stream",
     "text": [
      "Fitting 5 folds for each of 100 candidates, totalling 500 fits\n",
      "Best Parameters (Randomized Search): {'subsample': 0.7, 'n_estimators': 250, 'min_samples_split': 4, 'max_depth': 3, 'learning_rate': 0.07333333333333333}\n",
      "Best Model (Randomized Search): GradientBoostingClassifier(learning_rate=0.07333333333333333,\n",
      "                           min_samples_split=4, n_estimators=250,\n",
      "                           random_state=42, subsample=0.7)\n",
      "Accuracy: 0.7349966284558328\n",
      "Precision: 0.7670753064798599\n",
      "Recall: 0.6275071633237822\n",
      "F1-Score: 0.6903073286052009\n"
     ]
    }
   ],
   "source": [
    "# Define the parameter grid with wider range\n",
    "param_distributions = {\n",
    "    'n_estimators': np.arange(100, 500, 50),\n",
    "    'learning_rate': np.linspace(0.01, 0.2, 10),\n",
    "    'max_depth': np.arange(3, 10),\n",
    "    'subsample': np.linspace(0.6, 1.0, 5),\n",
    "    'min_samples_split': np.arange(2, 15)\n",
    "}\n",
    "\n",
    "# Initialize the model\n",
    "gb_model = GradientBoostingClassifier(random_state=42)\n",
    "\n",
    "# Initialize RandomizedSearchCV\n",
    "random_search = RandomizedSearchCV(estimator=gb_model, param_distributions=param_distributions, \n",
    "                                   scoring='f1', cv=5, n_iter=100, verbose=2, n_jobs=-1, random_state=42)\n",
    "\n",
    "# Fit RandomizedSearchCV\n",
    "random_search.fit(X_train, y_train)\n",
    "\n",
    "# Best parameters and model\n",
    "best_params_random = random_search.best_params_\n",
    "best_model_random = random_search.best_estimator_\n",
    "\n",
    "print(\"Best Parameters (Randomized Search):\", best_params_random)\n",
    "print(\"Best Model (Randomized Search):\", best_model_random)\n",
    "\n",
    "y_pred_random = best_model_random.predict(X_test)\n",
    "accuracy_random = accuracy_score(y_test, y_pred_random)\n",
    "precision_random = precision_score(y_test, y_pred_random)\n",
    "recall_random = recall_score(y_test, y_pred_random)\n",
    "f1_random = f1_score(y_test, y_pred_random)\n",
    "\n",
    "print(f'Accuracy: {accuracy_random}')\n",
    "print(f'Precision: {precision_random}')\n",
    "print(f'Recall: {recall_random}')\n",
    "print(f'F1-Score: {f1_random}')"
   ]
  },
  {
   "cell_type": "markdown",
   "metadata": {},
   "source": [
    "Hyperparameter tuning menggunakan RandomizedSearchCV dilakukan untuk mengoptimalkan performa model secara efisien dengan mencari kombinasi parameter terbaik, menghindari overfitting, dan memastikan model dapat menangani variabilitas data."
   ]
  },
  {
   "cell_type": "code",
   "execution_count": 712,
   "metadata": {},
   "outputs": [
    {
     "name": "stdout",
     "output_type": "stream",
     "text": [
      "Fitting 5 folds for each of 1 candidates, totalling 5 fits\n",
      "Fitting 5 folds for each of 1 candidates, totalling 5 fits\n",
      "Fitting 5 folds for each of 1 candidates, totalling 5 fits\n",
      "Fitting 5 folds for each of 1 candidates, totalling 5 fits\n",
      "Fitting 5 folds for each of 1 candidates, totalling 5 fits\n",
      "Fitting 5 folds for each of 1 candidates, totalling 5 fits\n",
      "Fitting 5 folds for each of 1 candidates, totalling 5 fits\n",
      "Fitting 5 folds for each of 1 candidates, totalling 5 fits\n",
      "Fitting 5 folds for each of 1 candidates, totalling 5 fits\n",
      "Fitting 5 folds for each of 1 candidates, totalling 5 fits\n",
      "Fitting 5 folds for each of 1 candidates, totalling 5 fits\n",
      "Fitting 5 folds for each of 1 candidates, totalling 5 fits\n",
      "Fitting 5 folds for each of 1 candidates, totalling 5 fits\n",
      "Fitting 5 folds for each of 1 candidates, totalling 5 fits\n",
      "Fitting 5 folds for each of 1 candidates, totalling 5 fits\n",
      "Fitting 5 folds for each of 1 candidates, totalling 5 fits\n",
      "Fitting 5 folds for each of 1 candidates, totalling 5 fits\n",
      "Fitting 5 folds for each of 1 candidates, totalling 5 fits\n",
      "Fitting 5 folds for each of 1 candidates, totalling 5 fits\n",
      "Fitting 5 folds for each of 1 candidates, totalling 5 fits\n",
      "Fitting 5 folds for each of 1 candidates, totalling 5 fits\n",
      "Fitting 5 folds for each of 1 candidates, totalling 5 fits\n",
      "Fitting 5 folds for each of 1 candidates, totalling 5 fits\n",
      "Fitting 5 folds for each of 1 candidates, totalling 5 fits\n",
      "Fitting 5 folds for each of 1 candidates, totalling 5 fits\n",
      "Fitting 5 folds for each of 1 candidates, totalling 5 fits\n",
      "Fitting 5 folds for each of 1 candidates, totalling 5 fits\n",
      "Fitting 5 folds for each of 1 candidates, totalling 5 fits\n",
      "Fitting 5 folds for each of 1 candidates, totalling 5 fits\n",
      "Fitting 5 folds for each of 1 candidates, totalling 5 fits\n",
      "Fitting 5 folds for each of 1 candidates, totalling 5 fits\n",
      "Fitting 5 folds for each of 1 candidates, totalling 5 fits\n",
      "Fitting 5 folds for each of 1 candidates, totalling 5 fits\n",
      "Fitting 5 folds for each of 1 candidates, totalling 5 fits\n",
      "Fitting 5 folds for each of 1 candidates, totalling 5 fits\n",
      "Fitting 5 folds for each of 1 candidates, totalling 5 fits\n",
      "Fitting 5 folds for each of 1 candidates, totalling 5 fits\n",
      "Fitting 5 folds for each of 1 candidates, totalling 5 fits\n",
      "Fitting 5 folds for each of 1 candidates, totalling 5 fits\n",
      "Fitting 5 folds for each of 1 candidates, totalling 5 fits\n",
      "Fitting 5 folds for each of 1 candidates, totalling 5 fits\n",
      "Fitting 5 folds for each of 1 candidates, totalling 5 fits\n",
      "Fitting 5 folds for each of 1 candidates, totalling 5 fits\n",
      "Fitting 5 folds for each of 1 candidates, totalling 5 fits\n",
      "Fitting 5 folds for each of 1 candidates, totalling 5 fits\n",
      "Fitting 5 folds for each of 1 candidates, totalling 5 fits\n",
      "Fitting 5 folds for each of 1 candidates, totalling 5 fits\n",
      "Fitting 5 folds for each of 1 candidates, totalling 5 fits\n",
      "Fitting 5 folds for each of 1 candidates, totalling 5 fits\n",
      "Fitting 5 folds for each of 1 candidates, totalling 5 fits\n",
      "Best Parameters (Bayesian Optimization): OrderedDict({'learning_rate': 0.08195246018765205, 'max_depth': 5, 'min_samples_split': 10, 'n_estimators': 100, 'subsample': 0.6633084424055744})\n",
      "Best Model (Bayesian Optimization): GradientBoostingClassifier(learning_rate=0.08195246018765205, max_depth=5,\n",
      "                           min_samples_split=10, random_state=42,\n",
      "                           subsample=0.6633084424055744)\n",
      "Accuracy: 0.7349966284558328\n",
      "Precision: 0.7670753064798599\n",
      "Recall: 0.6275071633237822\n",
      "F1-Score: 0.6903073286052009\n"
     ]
    },
    {
     "data": {
      "image/png": "[encoded data removed]",
      "text/plain": [
       "<Figure size 640x480 with 2 Axes>"
      ]
     },
     "metadata": {},
     "output_type": "display_data"
    }
   ],
   "source": [
    "# Define the parameter grid with wider range\n",
    "param_grid = {\n",
    "    'n_estimators': (100, 500),\n",
    "    'learning_rate': (0.01, 0.2),\n",
    "    'max_depth': (3, 10),\n",
    "    'subsample': (0.6, 1.0),\n",
    "    'min_samples_split': (2, 15)\n",
    "}\n",
    "\n",
    "# Initialize the model\n",
    "gb_model = GradientBoostingClassifier(random_state=42)\n",
    "\n",
    "# Initialize BayesSearchCV\n",
    "bayes_search = BayesSearchCV(estimator=gb_model, search_spaces=param_grid, \n",
    "                             scoring='f1', cv=5, n_iter=50, verbose=2, n_jobs=-1, random_state=42)\n",
    "\n",
    "# Fit BayesSearchCV\n",
    "bayes_search.fit(X_train, y_train)\n",
    "\n",
    "# Best parameters and model\n",
    "best_params_bayes = bayes_search.best_params_\n",
    "best_model_bayes = bayes_search.best_estimator_\n",
    "\n",
    "print(\"Best Parameters (Bayesian Optimization):\", best_params_bayes)\n",
    "print(\"Best Model (Bayesian Optimization):\", best_model_bayes)\n",
    "\n",
    "y_pred_bayes = best_model_bayes.predict(X_test)\n",
    "accuracy_bayes = accuracy_score(y_test, y_pred_bayes)\n",
    "precision_bayes = precision_score(y_test, y_pred_bayes)\n",
    "recall_bayes = recall_score(y_test, y_pred_bayes)\n",
    "f1_bayes = f1_score(y_test, y_pred_bayes)\n",
    "\n",
    "print(f'Accuracy: {accuracy_bayes}')\n",
    "print(f'Precision: {precision_bayes}')\n",
    "print(f'Recall: {recall_bayes}')\n",
    "print(f'F1-Score: {f1_bayes}')\n",
    "\n",
    "# Visualization confuision matrix Bayes\n",
    "cm_bayes = confusion_matrix(y_test, y_pred_bayes)\n",
    "sns.heatmap(cm_bayes, annot=True, fmt='d', cmap='Blues')\n",
    "plt.xlabel('Predicted')\n",
    "plt.ylabel('Actual')\n",
    "plt.title('Confusion Matrix')\n",
    "plt.show()"
   ]
  },
  {
   "cell_type": "markdown",
   "metadata": {},
   "source": [
    "Menggunakan BayesSearchCV memungkinkan untuk melakukan pencarian hyperparameter yang lebih cerdas dan efisien, mengoptimalkan model dengan pendekatan berbasis probabilistik yang dapat meningkatkan performa model secara keseluruhan."
   ]
  },
  {
   "cell_type": "code",
   "execution_count": 713,
   "metadata": {},
   "outputs": [
    {
     "name": "stdout",
     "output_type": "stream",
     "text": [
      "Stacking Model Accuracy: 0.7329737019554956\n",
      "Stacking Model Precision: 0.7585616438356164\n",
      "Stacking Model Recall: 0.6346704871060171\n",
      "Stacking Model F1-Score: 0.6911076443057722\n"
     ]
    }
   ],
   "source": [
    "# Define base models\n",
    "base_models = [\n",
    "    ('gb', GradientBoostingClassifier(random_state=42)),\n",
    "    ('rf', RandomForestClassifier(random_state=42)),\n",
    "    ('svm', SVC(probability=True, random_state=42))\n",
    "]\n",
    "\n",
    "# Define stacking model\n",
    "stacking_model = StackingClassifier(estimators=base_models, final_estimator=LogisticRegression(), n_jobs=-1)\n",
    "\n",
    "# Fit stacking model\n",
    "stacking_model.fit(X_train, y_train)\n",
    "\n",
    "# Evaluate stacking model\n",
    "y_pred_stack = stacking_model.predict(X_test)\n",
    "accuracy_stack = accuracy_score(y_test, y_pred_stack)\n",
    "precision_stack = precision_score(y_test, y_pred_stack)\n",
    "recall_stack = recall_score(y_test, y_pred_stack)\n",
    "f1_stack = f1_score(y_test, y_pred_stack)\n",
    "\n",
    "print(f'Stacking Model Accuracy: {accuracy_stack}')\n",
    "print(f'Stacking Model Precision: {precision_stack}')\n",
    "print(f'Stacking Model Recall: {recall_stack}')\n",
    "print(f'Stacking Model F1-Score: {f1_stack}')"
   ]
  },
  {
   "cell_type": "markdown",
   "metadata": {},
   "source": [
    "Menggunakan StackingClassifier memungkinkan kita untuk memanfaatkan kekuatan berbagai model, mengurangi kelemahan masing-masing model, dan meningkatkan kemampuan generalisasi serta performa keseluruhan model. Dengan pendekatan ini, kita dapat mencapai prediksi yang lebih akurat dan andal."
   ]
  },
  {
   "cell_type": "markdown",
   "metadata": {},
   "source": [
    "#### **7. Model Evaluation**"
   ]
  },
  {
   "cell_type": "code",
   "execution_count": 714,
   "metadata": {},
   "outputs": [
    {
     "name": "stdout",
     "output_type": "stream",
     "text": [
      "Akurasi Model Stacking: 0.7330\n",
      "Precision Model Stacking: 0.7586\n",
      "Recall Model Stacking: 0.6347\n",
      "F1-Score Model Stacking: 0.6911\n"
     ]
    },
    {
     "data": {
      "image/png": "[encoded data removed]",
      "text/plain": [
       "<Figure size 800x600 with 2 Axes>"
      ]
     },
     "metadata": {},
     "output_type": "display_data"
    },
    {
     "name": "stdout",
     "output_type": "stream",
     "text": [
      "              precision    recall  f1-score   support\n",
      "\n",
      "           0       0.72      0.82      0.76       785\n",
      "           1       0.76      0.63      0.69       698\n",
      "\n",
      "    accuracy                           0.73      1483\n",
      "   macro avg       0.74      0.73      0.73      1483\n",
      "weighted avg       0.74      0.73      0.73      1483\n",
      "\n"
     ]
    }
   ],
   "source": [
    "# Menghasilkan prediksi dari model stacking\n",
    "y_pred_stack = stacking_model.predict(X_test)\n",
    "\n",
    "# Menghitung metrik evaluasi\n",
    "accuracy_stack = accuracy_score(y_test, y_pred_stack)\n",
    "precision_stack = precision_score(y_test, y_pred_stack)\n",
    "recall_stack = recall_score(y_test, y_pred_stack)\n",
    "f1_stack = f1_score(y_test, y_pred_stack)\n",
    "\n",
    "# Menampilkan hasil metrik evaluasi\n",
    "print(f'Akurasi Model Stacking: {accuracy_stack:.4f}')\n",
    "print(f'Precision Model Stacking: {precision_stack:.4f}')\n",
    "print(f'Recall Model Stacking: {recall_stack:.4f}')\n",
    "print(f'F1-Score Model Stacking: {f1_stack:.4f}')\n",
    "\n",
    "# Membuat confusion matrix\n",
    "conf_matrix = confusion_matrix(y_test, y_pred_stack)\n",
    "\n",
    "# Menampilkan confusion matrix\n",
    "plt.figure(figsize=(8, 6))\n",
    "sns.heatmap(conf_matrix, annot=True, fmt='d', cmap='Blues')\n",
    "plt.xlabel('Prediksi')\n",
    "plt.ylabel('Aktual')\n",
    "plt.title('Confusion Matrix Model Stacking')\n",
    "plt.show()\n",
    "\n",
    "# Menampilkan laporan klasifikasi\n",
    "print(classification_report(y_test, y_pred_stack))"
   ]
  },
  {
   "cell_type": "markdown",
   "metadata": {},
   "source": [
    "- Accuracy: Mengukur seberapa sering model membuat prediksi yang benar secara keseluruhan.\n",
    "\n",
    "- Precision: Mengukur seberapa banyak prediksi positif yang benar-benar positif. Penting untuk mengurangi false positives.\n",
    "\n",
    "- Recall: Mengukur seberapa banyak kasus positif yang sebenarnya terdeteksi oleh model. Penting untuk mengurangi false negatives.\n",
    "\n",
    "- F1-Score: Rata-rata harmonis dari precision dan recall. Baik untuk mengukur keseimbangan antara precision dan recall.\n",
    "\n",
    "- Confusion Matrix: Menampilkan jumlah true positives, true negatives, false positives, dan false negatives untuk memberikan gambaran lengkap tentang performa model.\n",
    "\n",
    "Interpretasi Confusion Matrix\n",
    "True Positives (TP): Kasus positif yang diprediksi dengan benar oleh model. Dimana model memprediksi dengan benar nasabah yang ingin membuka deposito.\n",
    "\n",
    "True Negatives (TN): Kasus negatif yang diprediksi dengan benar oleh model. Dimana model memprediksi dengan benar nasabah yang tidak ingin membuka deposito.\n",
    "\n",
    "False Positives (FP): Kasus negatif yang salah diprediksi sebagai positif oleh model. Dimana model salah memprediksi orang akan membuka deposito.\n",
    "\n",
    "False Negatives (FN): Kasus positif yang salah diprediksi sebagai negatif oleh model. Dimana model salah memprediksi orang tidak akan membuka deposito."
   ]
  },
  {
   "cell_type": "markdown",
   "metadata": {},
   "source": [
    "#### **8. Conclusion and Reccomendation**"
   ]
  },
  {
   "cell_type": "markdown",
   "metadata": {},
   "source": [
    "**1. Ringkasan Performa Model**\n",
    "\n",
    "Berdasarkan evaluasi model Stacking yang dilakukan, berikut adalah metrik utama yang diperoleh:\n",
    "\n",
    "- Akurasi: 0.7330\n",
    "- Precision: 0.7586\n",
    "- Recall: 0.6347\n",
    "- F1-Score: 0.6911\n",
    "\n",
    "Temuan Utama:\n",
    "\n",
    "Model Stacking memiliki performa yang baik dengan F1-Score sebesar 0.6911.\n",
    "\n",
    "Precision menunjukkan bahwa dari semua prediksi positif, sekitar 75.86% adalah benar-benar positif, yang menunjukkan model cukup efektif dalam mengurangi false positives.\n",
    "\n",
    "Recall menunjukkan bahwa dari semua kasus positif yang sebenarnya, sekitar 63.47% berhasil dideteksi oleh model, yang berarti ada ruang untuk peningkatan dalam mengurangi false negatives.\n",
    "\n",
    "Akurasi model sebesar 73.30% menunjukkan model mampu memprediksi dengan benar mayoritas kasus dalam data uji.\n",
    "\n",
    "**2. Rekomendasi untuk Meningkatkan Kampanye Pemasaran di Masa Depan**\n",
    "\n",
    "Targeting yang Lebih Tepat:\n",
    "- Gunakan hasil model untuk menargetkan nasabah yang lebih mungkin membuka deposito. Fokus pada segmen yang memiliki probabilitas tinggi berdasarkan prediksi model.\n",
    "- Pertimbangkan untuk membuat kampanye yang lebih spesifik untuk segmen-segmen tertentu yang teridentifikasi memiliki minat tinggi terhadap deposito berjangka.\n",
    "\n",
    "Optimasi Sumber Daya Pemasaran:\n",
    "- Alokasikan sumber daya pemasaran secara lebih efisien dengan mengurangi upaya pada segmen yang model prediksi tidak akan membuka deposito.\n",
    "- Gunakan analisis lebih lanjut untuk memahami karakteristik nasabah yang cenderung membuka deposito dan sesuaikan strategi pemasaran.\n",
    "\n",
    "Personalisasi Pesan:\n",
    "- Buat pesan pemasaran yang lebih personal dan relevan berdasarkan profil nasabah yang cenderung membuka deposito.\n",
    "- Gunakan data demografis dan perilaku untuk menyusun kampanye yang lebih menarik dan efektif.\n",
    "\n",
    "**3. Langkah Selanjutnya untuk Penyempurnaan dan Penerapan Model**\n",
    "\n",
    "Feature Engineering Lebih Lanjut:\n",
    "- Lakukan analisis lebih lanjut untuk menemukan fitur-fitur tambahan yang bisa meningkatkan performa model.\n",
    "- Pertimbangkan untuk menggunakan domain knowledge untuk menciptakan fitur yang lebih relevan.\n",
    "\n",
    "Hyperparameter Tuning Lebih Ekstensif:\n",
    "- Uji lebih banyak kombinasi parameter untuk memastikan model yang dihasilkan adalah yang paling optimal.\n",
    "\n",
    "Model Ensemble dan Advanced Techniques:\n",
    "- Pertimbangkan untuk menggunakan metode ensemble yang lebih canggih seperti Stacking atau Blending untuk meningkatkan performa.\n",
    "- Eksplorasi penggunaan model yang lebih kompleks seperti neural networks jika data dan sumber daya mendukung.\n",
    "\n",
    "Monitoring dan Pemeliharaan Model:\n",
    "- Implementasikan model dalam sistem produksi dan lakukan monitoring secara berkala untuk memastikan performa tetap konsisten.\n",
    "- Lakukan pemeliharaan model secara rutin dengan retraining menggunakan data terbaru untuk mempertahankan akurasi dan relevansi."
   ]
  },
  {
   "cell_type": "markdown",
   "metadata": {},
   "source": [
    "**Kapan Model Dapat Digunakan dan Tidak Dapat Digunakan**\n",
    "\n",
    "*Kapan Model Dapat Digunakan*\n",
    "- Data Valid dan Konsisten:\n",
    "\n",
    "Model dapat digunakan ketika data yang dimasukkan konsisten dengan data yang digunakan untuk pelatihan.\n",
    "Data yang baru harus dipreproses dengan cara yang sama seperti data pelatihan (misalnya normalisasi, encoding, dll).\n",
    "\n",
    "- Profil Nasabah Sesuai:\n",
    "\n",
    "Model dapat digunakan untuk nasabah dengan profil yang sesuai dengan data pelatihan.\n",
    "Fitur-fitur yang digunakan oleh model (seperti usia, saldo, jumlah kampanye, dsb.) harus tersedia dan akurat.\n",
    "\n",
    "- Kebutuhan Bisnis Sesuai:\n",
    "\n",
    "Model dapat digunakan ketika tujuan bisnis sesuai dengan tujuan yang digunakan untuk membangun model.\n",
    "Model cocok digunakan untuk meningkatkan kampanye pemasaran deposito berjangka, di mana prediksi nasabah potensial sangat penting.\n",
    "\n",
    "- Evaluasi Berkala:\n",
    "\n",
    "Model dapat digunakan jika performanya terus dievaluasi dan tetap memenuhi standar yang diinginkan.\n",
    "Monitoring performa model di lingkungan produksi untuk memastikan akurasi dan relevansi tetap tinggi.\n",
    "\n",
    "- Ketidakseimbangan Data Teratasi:\n",
    "\n",
    "Model dapat digunakan jika ketidakseimbangan data telah ditangani dengan baik, seperti dengan menggunakan teknik SMOTE atau metode lain.\n",
    "\n",
    "*Kapan Model Tidak Dapat Digunakan*\n",
    "- Data Tidak Konsisten atau Hilang:\n",
    "\n",
    "Model tidak dapat digunakan jika data yang dimasukkan tidak konsisten dengan data pelatihan atau jika terdapat banyak data yang hilang.\n",
    "Misalnya, fitur-fitur penting yang digunakan oleh model tidak tersedia atau memiliki banyak nilai hilang.\n",
    "\n",
    "- Ketidaksesuaian Profil Nasabah:\n",
    "\n",
    "Model tidak dapat digunakan untuk profil nasabah yang sangat berbeda dari data pelatihan.\n",
    "Misalnya, model dilatih menggunakan data nasabah dari wilayah tertentu, dan sekarang digunakan untuk wilayah yang sangat berbeda dengan karakteristik yang berbeda pula.\n",
    "\n",
    "- Performanya Menurun:\n",
    "\n",
    "Model tidak dapat digunakan jika evaluasi berkala menunjukkan penurunan performa yang signifikan.\n",
    "Misalnya, F1-Score atau metrik lainnya turun di bawah standar yang dapat diterima.\n",
    "\n",
    "- Tidak Sesuai dengan Tujuan Bisnis:\n",
    "\n",
    "Model tidak dapat digunakan jika tujuan bisnis telah berubah dan tidak lagi sesuai dengan tujuan awal model.\n",
    "Misalnya, fokus bisnis bergeser dari deposito berjangka ke produk keuangan lain yang membutuhkan model dengan karakteristik berbeda."
   ]
  },
  {
   "cell_type": "markdown",
   "metadata": {},
   "source": [
    "#### **9. Saving Model**"
   ]
  },
  {
   "cell_type": "code",
   "execution_count": 715,
   "metadata": {},
   "outputs": [
    {
     "name": "stdout",
     "output_type": "stream",
     "text": [
      "Model berhasil disimpan ke dalam file bank_marketing_campaign.pkl\n"
     ]
    }
   ],
   "source": [
    "import pickle\n",
    "\n",
    "# Save as..\n",
    "model_filename = 'bank_marketing_campaign.pkl'\n",
    "\n",
    "with open(model_filename, 'wb') as file:\n",
    "    pickle.dump(stacking_model, file)\n",
    "\n",
    "print(f\"Model berhasil disimpan ke dalam file {model_filename}\")"
   ]
  }
 ],
 "metadata": {
  "kernelspec": {
   "display_name": "Python 3",
   "language": "python",
   "name": "python3"
  },
  "language_info": {
   "codemirror_mode": {
    "name": "ipython",
    "version": 3
   },
   "file_extension": ".py",
   "mimetype": "text/x-python",
   "name": "python",
   "nbconvert_exporter": "python",
   "pygments_lexer": "ipython3",
   "version": "3.12.3"
  }
 },
 "nbformat": 4,
 "nbformat_minor": 2
}
